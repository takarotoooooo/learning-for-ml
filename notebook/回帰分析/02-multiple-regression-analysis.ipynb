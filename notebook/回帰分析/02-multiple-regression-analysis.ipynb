{
 "cells": [
  {
   "cell_type": "markdown",
   "id": "3929cf11",
   "metadata": {},
   "source": [
    "# 重回帰分析\n",
    "目的変数 $y$ を複数の変数 $x_1, x_2, ... , x_n$ で予測する"
   ]
  },
  {
   "cell_type": "markdown",
   "id": "a3ba3712",
   "metadata": {},
   "source": [
    "## モデル\n",
    "目的変数 $y$ と変数 $x_1, x_2, \\cdots, x_M$ の関係を下記の一次式で表せるとする\n",
    "$$\n",
    "    y = {w_1}{x_1} + {w_2}{x_2} + \\cdots + {w_M}{x_M} + b\n",
    "$$\n",
    "これについて最適な $w_1, w_2, \\cdots, w_M$ 及び $b$ を求める。  \n",
    "ここで $w_1, w_2, \\cdots, w_M$ は変数 $x_1, x_2, \\cdots, x_M$ が目的変数 $y$ に与える影響の大きさで、 $b$ は変数 $x_1, x_2, \\cdots, x_M$ の内容にかかわらず $y$ に影響を与えるバイアスとなる。"
   ]
  },
  {
   "cell_type": "markdown",
   "id": "19cebb82",
   "metadata": {},
   "source": [
    "### モデルの式変形\n",
    "バイアス $b$ を ${w_0}{x_0}$ とするとモデルの式は下記のように書き換えられる\n",
    "$$\n",
    "\\begin{eqnarray}\n",
    "y &=& {w_1}{x_1} + {w_2}{x_2} + ... + {w_M}{x_M} + b \\\\\n",
    "&=& {w_0}{x_0} + {w_1}{x_1} + {w_2}{x_2} + ... + {w_M}{x_M} \\\\\n",
    "&=& \\begin{bmatrix}\n",
    "{w_0} & {w_1} & \\cdots & {w_M}\n",
    "\\end{bmatrix}\n",
    "\\begin{bmatrix}\n",
    "{x_0} \\\\\n",
    "{x_1} \\\\\n",
    "\\vdots \\\\\n",
    "{x_M}\n",
    "\\end{bmatrix}\n",
    "= \\begin{bmatrix}\n",
    "{x_0} & {x_1} & \\cdots & {x_M}\n",
    "\\end{bmatrix}\n",
    "\\begin{bmatrix}\n",
    "{w_0} \\\\\n",
    "{w_1} \\\\\n",
    "\\vdots \\\\\n",
    "{w_M}\n",
    "\\end{bmatrix}\n",
    "\\end{eqnarray}\n",
    "$$\n",
    "\n",
    "ここで\n",
    "$$\n",
    "\\boldsymbol{x} = \\begin{bmatrix}\n",
    "{x_0} \\\\\n",
    "{x_1} \\\\\n",
    "\\vdots \\\\\n",
    "{x_M}\n",
    "\\end{bmatrix},\n",
    "\\boldsymbol{w} = \\begin{bmatrix}\n",
    "{w_0} \\\\\n",
    "{w_1} \\\\\n",
    "\\vdots \\\\\n",
    "{w_M}\n",
    "\\end{bmatrix}\n",
    "$$\n",
    "とすると\n",
    "$$\n",
    "y = \\boldsymbol{x}^T\\boldsymbol{w} \n",
    "$$\n",
    "と表すことができる"
   ]
  },
  {
   "cell_type": "markdown",
   "id": "04fd1186",
   "metadata": {},
   "source": [
    "## 損失関数\n",
    "単回帰分析の時と同様損失関数を実測値 $y_{i}$、予測値 $\\hat{y_{i}}$を用いて下記でおく\n",
    "$$\n",
    "\\mathcal{L} = \\sum_{i=1}^{N}{(y_{i} - \\hat{y_{i}})^2}\n",
    "$$"
   ]
  },
  {
   "cell_type": "markdown",
   "id": "29507b3e",
   "metadata": {},
   "source": [
    "### 損失関数の式変形\n",
    "$$\n",
    "\\begin{eqnarray}\n",
    "\\mathcal{L} &=& \\sum_{i=1}^{N}{(y_{i} - \\hat{y_{i}})^2} \\\\\n",
    "&=& ({y_1} - \\hat{y_1})^2 + ({y_2} - \\hat{y_2})^2 + \\cdots + ({y_N} - \\hat{y_N})^2 \\\\\n",
    "&=& \\begin{bmatrix}\n",
    "{{y_1} - \\hat{y_1}} & {{y_2} - \\hat{y_2}} & \\cdots & {{y_N} - \\hat{y_N}}\n",
    "\\end{bmatrix}\n",
    "\\begin{bmatrix}\n",
    "{{y_1} - \\hat{y_1}} \\\\\n",
    "{{y_2} - \\hat{y_2}} \\\\\n",
    "\\vdots \\\\\n",
    "{{y_N} - \\hat{y_N}}\n",
    "\\end{bmatrix}\n",
    "\\end{eqnarray}\n",
    "$$\n",
    "ここで\n",
    "$$\n",
    "\\boldsymbol{y} = \\begin{bmatrix}\n",
    "{y_1} \\\\\n",
    "{y_2} \\\\\n",
    "\\vdots \\\\\n",
    "{y_N}\n",
    "\\end{bmatrix},\n",
    "\\hat{\\boldsymbol{y}} = \\begin{bmatrix}\n",
    "{\\hat{y_1}} \\\\\n",
    "{\\hat{y_2}} \\\\\n",
    "\\vdots \\\\\n",
    "{\\hat{y_N}}\n",
    "\\end{bmatrix}\n",
    "$$\n",
    "とすると\n",
    "$$\n",
    "\\begin{bmatrix}\n",
    "{{y_1} - \\hat{y_1}} \\\\\n",
    "{{y_2} - \\hat{y_2}} \\\\\n",
    "\\vdots \\\\\n",
    "{{y_N} - \\hat{y_N}}\n",
    "\\end{bmatrix}\n",
    "= \\boldsymbol{y} - \\hat{\\boldsymbol{y}}\n",
    "$$\n",
    "となるため\n",
    "$$\n",
    "\\begin{eqnarray}\n",
    "\\mathcal{L} &=& \\sum_{i=1}^{N}{(y_{i} - \\hat{y_{i}})^2} \\\\\n",
    "&=& {(\\boldsymbol{y} - \\hat{\\boldsymbol{y}})^T}{(\\boldsymbol{y} - \\hat{\\boldsymbol{y}})}\n",
    "\\end{eqnarray}\n",
    "$$\n",
    "となる"
   ]
  },
  {
   "cell_type": "markdown",
   "id": "e9e5f5df",
   "metadata": {},
   "source": [
    "## 損失関数を最小化するパラメータを見つける\n",
    "$\\hat{y_i} = \\boldsymbol{x_i}^T\\boldsymbol{w_i}$ であるので 損失関数の $\\hat{\\boldsymbol{y}}$は下記の通り展開できる\n",
    "\n",
    "$$\n",
    "\\hat{\\boldsymbol{y}} = \\begin{bmatrix}\n",
    "{\\hat{y_1}} \\\\\n",
    "{\\hat{y_2}} \\\\\n",
    "\\vdots \\\\\n",
    "{\\hat{y_N}}\n",
    "\\end{bmatrix}\n",
    "= \\begin{bmatrix}\n",
    "{\\boldsymbol{x_1}^T{w_1}} \\\\\n",
    "{\\boldsymbol{x_2}^T{w_2}} \\\\\n",
    "\\vdots \\\\\n",
    "{\\boldsymbol{x_N}^T{w_N}}\n",
    "\\end{bmatrix}\n",
    "= \\begin{bmatrix}\n",
    "{\\boldsymbol{x_1}^T} \\\\\n",
    "{\\boldsymbol{x_2}^T} \\\\\n",
    "\\vdots \\\\\n",
    "{\\boldsymbol{x_N}^T}\n",
    "\\end{bmatrix}\n",
    "\\boldsymbol{w}\n",
    "= \\begin{bmatrix}\n",
    "{x_{10}} & {x_{11}} & {x_{12}} & \\cdots & {x_{1M}} \\\\\n",
    "{x_{20}} & {x_{21}} & {x_{22}} & \\cdots & {x_{2M}} \\\\\n",
    "\\vdots & \\vdots & \\vdots & \\ddots & \\vdots \\\\\n",
    "{x_{N0}} & {x_{N1}} & {x_{N2}} & \\cdots & {x_{NM}}\n",
    "\\end{bmatrix}\n",
    "\\boldsymbol{w}\n",
    "$$\n",
    "ここで\n",
    "$$\n",
    "\\begin{bmatrix}\n",
    "{x_{10}} & {x_{11}} & {x_{12}} & \\cdots & {x_{1M}} \\\\\n",
    "{x_{20}} & {x_{21}} & {x_{22}} & \\cdots & {x_{2M}} \\\\\n",
    "\\vdots & \\vdots & \\vdots & \\ddots & \\vdots \\\\\n",
    "{x_{N0}} & {x_{N1}} & {x_{N2}} & \\cdots & {x_{NM}}\n",
    "\\end{bmatrix} = \\boldsymbol{X}\n",
    "$$\n",
    "とおくと\n",
    "$$\n",
    "\\hat{\\boldsymbol{y}} = \\boldsymbol{X}\\boldsymbol{w}\n",
    "$$\n",
    "と表せる。すなわち損失関数は\n",
    "$$\n",
    "\\begin{eqnarray}\n",
    "\\mathcal{L} &=& {(\\boldsymbol{y} - \\hat{\\boldsymbol{y}})^T}{(\\boldsymbol{y} - \\hat{\\boldsymbol{y}})} \\\\\n",
    "&=& {(\\boldsymbol{y} -  \\boldsymbol{X}\\boldsymbol{w})^T}{(\\boldsymbol{y} -  \\boldsymbol{X}\\boldsymbol{w})} \\\\\n",
    "&=& {(\\boldsymbol{y}^T - (\\boldsymbol{X}\\boldsymbol{w})^T)}{(\\boldsymbol{y} -  \\boldsymbol{X}\\boldsymbol{w})} \\\\\n",
    "&=& {(\\boldsymbol{y}^T - \\boldsymbol{w}^T\\boldsymbol{X}^T)}{(\\boldsymbol{y} -  \\boldsymbol{X}\\boldsymbol{w})} \\\\\n",
    "&=& {\\boldsymbol{y}^T}{\\boldsymbol{y}} - {\\boldsymbol{y}^T}{\\boldsymbol{X}}{\\boldsymbol{w}} - {\\boldsymbol{w}^T\\boldsymbol{X}^T}{\\boldsymbol{y}} + {\\boldsymbol{w}^T\\boldsymbol{X}^T}{\\boldsymbol{X}\\boldsymbol{w}} \\\\\n",
    "&=& {\\boldsymbol{y}^T}{\\boldsymbol{y}} - 2{\\boldsymbol{y}^T}{\\boldsymbol{X}}{\\boldsymbol{w}} + {\\boldsymbol{w}^T\\boldsymbol{X}^T}{\\boldsymbol{X}\\boldsymbol{w}}\n",
    "\\end{eqnarray}\n",
    "$$\n",
    "と変形できる。この上で\n",
    "$$\n",
    "\\frac{\\partial}{\\partial{\\boldsymbol{w}}}\\mathcal{L} = \\boldsymbol{0}\n",
    "$$\n",
    "となる $\\boldsymbol{w}$ を算出する\n",
    "\n",
    "$$\n",
    "\\begin{eqnarray}\n",
    "\\frac{\\partial}{\\partial{\\boldsymbol{w}}}\\mathcal{L} &=& \\frac{\\partial}{\\partial{\\boldsymbol{w}}}{({\\boldsymbol{y}^T}{\\boldsymbol{y}} - 2{\\boldsymbol{y}^T}{\\boldsymbol{X}}{\\boldsymbol{w}} + {\\boldsymbol{w}^T\\boldsymbol{X}^T}{\\boldsymbol{X}\\boldsymbol{w}})} \\\\\n",
    "&=& \\frac{\\partial}{\\partial{\\boldsymbol{w}}}{({\\boldsymbol{y}^T}{\\boldsymbol{y}})} \n",
    "- \\frac{\\partial}{\\partial{\\boldsymbol{w}}}{(2{\\boldsymbol{y}^T}{\\boldsymbol{X}}{\\boldsymbol{w}})}\n",
    "+ \\frac{\\partial}{\\partial{\\boldsymbol{w}}}{({\\boldsymbol{w}^T\\boldsymbol{X}^T}{\\boldsymbol{X}\\boldsymbol{w}})} \\\\\n",
    "&=& \\boldsymbol{0} - 2{\\boldsymbol{X}^T}{\\boldsymbol{y}}\n",
    " + ({\\boldsymbol{X}^T}{\\boldsymbol{X}}+({\\boldsymbol{X}^T}{\\boldsymbol{X}})^T)\\boldsymbol{w} \\\\\n",
    "&=& - 2{\\boldsymbol{X}^T}{\\boldsymbol{y}} + 2{\\boldsymbol{X}^T}{\\boldsymbol{X}}\\boldsymbol{w}\n",
    "\\end{eqnarray}\n",
    "$$\n",
    "\n",
    "$$\n",
    "\\begin{eqnarray}\n",
    "- 2{\\boldsymbol{X}^T}{\\boldsymbol{y}} + 2{\\boldsymbol{X}^T}{\\boldsymbol{X}}\\boldsymbol{w} &=& \\boldsymbol{0} \\\\\n",
    "{\\boldsymbol{X}^T}{\\boldsymbol{X}}\\boldsymbol{w} &=& {\\boldsymbol{X}^T}{\\boldsymbol{y}} \\\\\n",
    "\\boldsymbol{w} = ({\\boldsymbol{X}^T}{\\boldsymbol{X}})^{-1}{\\boldsymbol{X}^T}{\\boldsymbol{y}}\n",
    "\\end{eqnarray}\n",
    "$$"
   ]
  },
  {
   "cell_type": "markdown",
   "id": "2b7a0a44",
   "metadata": {},
   "source": [
    "## 実際に求めてみる"
   ]
  },
  {
   "cell_type": "code",
   "execution_count": 1,
   "id": "b46e9ca0",
   "metadata": {},
   "outputs": [],
   "source": [
    "import numpy as np"
   ]
  },
  {
   "cell_type": "code",
   "execution_count": 2,
   "id": "d4b11c26",
   "metadata": {},
   "outputs": [],
   "source": [
    "X = np.array([\n",
    "    [1, 2, 3],\n",
    "    [1, 2, 5],\n",
    "    [1, 3, 4],\n",
    "    [1, 5, 9]\n",
    "])\n",
    "y = np.array([\n",
    "    [1],\n",
    "    [5],\n",
    "    [6],\n",
    "    [8]\n",
    "])"
   ]
  },
  {
   "cell_type": "code",
   "execution_count": 3,
   "id": "b9ba2697",
   "metadata": {},
   "outputs": [],
   "source": [
    "Xt = X.T\n",
    "XtX_inv = np.linalg.inv(np.dot(Xt, X))"
   ]
  },
  {
   "cell_type": "code",
   "execution_count": 4,
   "id": "47824ea6",
   "metadata": {},
   "outputs": [],
   "source": [
    "Xty = np.dot(Xt, y)"
   ]
  },
  {
   "cell_type": "code",
   "execution_count": 5,
   "id": "5ef99a89",
   "metadata": {},
   "outputs": [
    {
     "data": {
      "text/plain": [
       "array([[-0.14285714],\n",
       "       [ 0.71428571],\n",
       "       [ 0.57142857]])"
      ]
     },
     "execution_count": 5,
     "metadata": {},
     "output_type": "execute_result"
    }
   ],
   "source": [
    "w = np.dot(XtX_inv, Xty)\n",
    "w"
   ]
  },
  {
   "cell_type": "markdown",
   "id": "69885ea6",
   "metadata": {},
   "source": [
    "## scikit-learn"
   ]
  },
  {
   "cell_type": "code",
   "execution_count": 6,
   "id": "56428c85",
   "metadata": {},
   "outputs": [],
   "source": [
    "from sklearn.linear_model import LinearRegression"
   ]
  },
  {
   "cell_type": "code",
   "execution_count": 7,
   "id": "bf0a9e88",
   "metadata": {},
   "outputs": [
    {
     "data": {
      "text/html": [
       "<style>#sk-container-id-1 {color: black;background-color: white;}#sk-container-id-1 pre{padding: 0;}#sk-container-id-1 div.sk-toggleable {background-color: white;}#sk-container-id-1 label.sk-toggleable__label {cursor: pointer;display: block;width: 100%;margin-bottom: 0;padding: 0.3em;box-sizing: border-box;text-align: center;}#sk-container-id-1 label.sk-toggleable__label-arrow:before {content: \"▸\";float: left;margin-right: 0.25em;color: #696969;}#sk-container-id-1 label.sk-toggleable__label-arrow:hover:before {color: black;}#sk-container-id-1 div.sk-estimator:hover label.sk-toggleable__label-arrow:before {color: black;}#sk-container-id-1 div.sk-toggleable__content {max-height: 0;max-width: 0;overflow: hidden;text-align: left;background-color: #f0f8ff;}#sk-container-id-1 div.sk-toggleable__content pre {margin: 0.2em;color: black;border-radius: 0.25em;background-color: #f0f8ff;}#sk-container-id-1 input.sk-toggleable__control:checked~div.sk-toggleable__content {max-height: 200px;max-width: 100%;overflow: auto;}#sk-container-id-1 input.sk-toggleable__control:checked~label.sk-toggleable__label-arrow:before {content: \"▾\";}#sk-container-id-1 div.sk-estimator input.sk-toggleable__control:checked~label.sk-toggleable__label {background-color: #d4ebff;}#sk-container-id-1 div.sk-label input.sk-toggleable__control:checked~label.sk-toggleable__label {background-color: #d4ebff;}#sk-container-id-1 input.sk-hidden--visually {border: 0;clip: rect(1px 1px 1px 1px);clip: rect(1px, 1px, 1px, 1px);height: 1px;margin: -1px;overflow: hidden;padding: 0;position: absolute;width: 1px;}#sk-container-id-1 div.sk-estimator {font-family: monospace;background-color: #f0f8ff;border: 1px dotted black;border-radius: 0.25em;box-sizing: border-box;margin-bottom: 0.5em;}#sk-container-id-1 div.sk-estimator:hover {background-color: #d4ebff;}#sk-container-id-1 div.sk-parallel-item::after {content: \"\";width: 100%;border-bottom: 1px solid gray;flex-grow: 1;}#sk-container-id-1 div.sk-label:hover label.sk-toggleable__label {background-color: #d4ebff;}#sk-container-id-1 div.sk-serial::before {content: \"\";position: absolute;border-left: 1px solid gray;box-sizing: border-box;top: 0;bottom: 0;left: 50%;z-index: 0;}#sk-container-id-1 div.sk-serial {display: flex;flex-direction: column;align-items: center;background-color: white;padding-right: 0.2em;padding-left: 0.2em;position: relative;}#sk-container-id-1 div.sk-item {position: relative;z-index: 1;}#sk-container-id-1 div.sk-parallel {display: flex;align-items: stretch;justify-content: center;background-color: white;position: relative;}#sk-container-id-1 div.sk-item::before, #sk-container-id-1 div.sk-parallel-item::before {content: \"\";position: absolute;border-left: 1px solid gray;box-sizing: border-box;top: 0;bottom: 0;left: 50%;z-index: -1;}#sk-container-id-1 div.sk-parallel-item {display: flex;flex-direction: column;z-index: 1;position: relative;background-color: white;}#sk-container-id-1 div.sk-parallel-item:first-child::after {align-self: flex-end;width: 50%;}#sk-container-id-1 div.sk-parallel-item:last-child::after {align-self: flex-start;width: 50%;}#sk-container-id-1 div.sk-parallel-item:only-child::after {width: 0;}#sk-container-id-1 div.sk-dashed-wrapped {border: 1px dashed gray;margin: 0 0.4em 0.5em 0.4em;box-sizing: border-box;padding-bottom: 0.4em;background-color: white;}#sk-container-id-1 div.sk-label label {font-family: monospace;font-weight: bold;display: inline-block;line-height: 1.2em;}#sk-container-id-1 div.sk-label-container {text-align: center;}#sk-container-id-1 div.sk-container {/* jupyter's `normalize.less` sets `[hidden] { display: none; }` but bootstrap.min.css set `[hidden] { display: none !important; }` so we also need the `!important` here to be able to override the default hidden behavior on the sphinx rendered scikit-learn.org. See: https://github.com/scikit-learn/scikit-learn/issues/21755 */display: inline-block !important;position: relative;}#sk-container-id-1 div.sk-text-repr-fallback {display: none;}</style><div id=\"sk-container-id-1\" class=\"sk-top-container\"><div class=\"sk-text-repr-fallback\"><pre>LinearRegression(fit_intercept=False)</pre><b>In a Jupyter environment, please rerun this cell to show the HTML representation or trust the notebook. <br />On GitHub, the HTML representation is unable to render, please try loading this page with nbviewer.org.</b></div><div class=\"sk-container\" hidden><div class=\"sk-item\"><div class=\"sk-estimator sk-toggleable\"><input class=\"sk-toggleable__control sk-hidden--visually\" id=\"sk-estimator-id-1\" type=\"checkbox\" checked><label for=\"sk-estimator-id-1\" class=\"sk-toggleable__label sk-toggleable__label-arrow\">LinearRegression</label><div class=\"sk-toggleable__content\"><pre>LinearRegression(fit_intercept=False)</pre></div></div></div></div></div>"
      ],
      "text/plain": [
       "LinearRegression(fit_intercept=False)"
      ]
     },
     "execution_count": 7,
     "metadata": {},
     "output_type": "execute_result"
    }
   ],
   "source": [
    "model = LinearRegression(fit_intercept=False)\n",
    "model.fit(X, y)"
   ]
  },
  {
   "cell_type": "code",
   "execution_count": 8,
   "id": "2e2a1d39",
   "metadata": {},
   "outputs": [
    {
     "data": {
      "text/plain": [
       "array([[-0.14285714,  0.71428571,  0.57142857]])"
      ]
     },
     "execution_count": 8,
     "metadata": {},
     "output_type": "execute_result"
    }
   ],
   "source": [
    "model.coef_"
   ]
  },
  {
   "cell_type": "code",
   "execution_count": 9,
   "id": "292d4b2c",
   "metadata": {},
   "outputs": [
    {
     "data": {
      "text/plain": [
       "0.6923076923076923"
      ]
     },
     "execution_count": 9,
     "metadata": {},
     "output_type": "execute_result"
    }
   ],
   "source": [
    "model.score(X, y)"
   ]
  },
  {
   "cell_type": "code",
   "execution_count": 10,
   "id": "97803c1d",
   "metadata": {},
   "outputs": [
    {
     "data": {
      "text/plain": [
       "array([[5.42857143]])"
      ]
     },
     "execution_count": 10,
     "metadata": {},
     "output_type": "execute_result"
    }
   ],
   "source": [
    "x = np.array([\n",
    "    [1, 3, 6]\n",
    "])\n",
    "model.predict(x)"
   ]
  },
  {
   "cell_type": "markdown",
   "id": "87cc922a",
   "metadata": {},
   "source": [
    "## 実際のデータを使ってシミュレーション"
   ]
  },
  {
   "cell_type": "code",
   "execution_count": 11,
   "id": "17f34e14",
   "metadata": {},
   "outputs": [],
   "source": [
    "import os\n",
    "import sys\n",
    "import seaborn as sns\n",
    "import numpy as np\n",
    "from pathlib import Path\n",
    "sys.path.append(os.path.dirname(Path().resolve()))\n",
    "\n",
    "from modules.snowflake import Snowflake\n",
    "from snowflake.snowpark.functions import col, lit"
   ]
  },
  {
   "cell_type": "code",
   "execution_count": 12,
   "id": "ca6fb200",
   "metadata": {},
   "outputs": [],
   "source": [
    "snowflake = Snowflake()"
   ]
  },
  {
   "cell_type": "code",
   "execution_count": 13,
   "id": "1fbf0802",
   "metadata": {},
   "outputs": [],
   "source": [
    "lineitem_df = snowflake.fetch_dataframe('SNOWFLAKE_SAMPLE_DATA.TPCH_SF1.LINEITEM')\n",
    "lineitem_pd = lineitem_df.filter(\n",
    "    col('L_LINENUMBER') == 1\n",
    ").select(\n",
    "    col('L_QUANTITY').alias('QUANTITY'),\n",
    "    col('L_DISCOUNT').alias('DISCOUNT'),\n",
    "    col('L_EXTENDEDPRICE').alias('EXTENDED_PRICE')\n",
    ").to_pandas()"
   ]
  },
  {
   "cell_type": "code",
   "execution_count": 14,
   "id": "ed4742bb",
   "metadata": {},
   "outputs": [
    {
     "data": {
      "text/html": [
       "<div>\n",
       "<style scoped>\n",
       "    .dataframe tbody tr th:only-of-type {\n",
       "        vertical-align: middle;\n",
       "    }\n",
       "\n",
       "    .dataframe tbody tr th {\n",
       "        vertical-align: top;\n",
       "    }\n",
       "\n",
       "    .dataframe thead th {\n",
       "        text-align: right;\n",
       "    }\n",
       "</style>\n",
       "<table border=\"1\" class=\"dataframe\">\n",
       "  <thead>\n",
       "    <tr style=\"text-align: right;\">\n",
       "      <th></th>\n",
       "      <th>QUANTITY</th>\n",
       "      <th>DISCOUNT</th>\n",
       "      <th>EXTENDED_PRICE</th>\n",
       "    </tr>\n",
       "  </thead>\n",
       "  <tbody>\n",
       "    <tr>\n",
       "      <th>0</th>\n",
       "      <td>35.0</td>\n",
       "      <td>0.04</td>\n",
       "      <td>36718.85</td>\n",
       "    </tr>\n",
       "    <tr>\n",
       "      <th>1</th>\n",
       "      <td>6.0</td>\n",
       "      <td>0.05</td>\n",
       "      <td>8029.86</td>\n",
       "    </tr>\n",
       "    <tr>\n",
       "      <th>2</th>\n",
       "      <td>14.0</td>\n",
       "      <td>0.04</td>\n",
       "      <td>15934.52</td>\n",
       "    </tr>\n",
       "    <tr>\n",
       "      <th>3</th>\n",
       "      <td>26.0</td>\n",
       "      <td>0.06</td>\n",
       "      <td>53403.22</td>\n",
       "    </tr>\n",
       "    <tr>\n",
       "      <th>4</th>\n",
       "      <td>2.0</td>\n",
       "      <td>0.08</td>\n",
       "      <td>2526.48</td>\n",
       "    </tr>\n",
       "  </tbody>\n",
       "</table>\n",
       "</div>"
      ],
      "text/plain": [
       "   QUANTITY  DISCOUNT  EXTENDED_PRICE\n",
       "0      35.0      0.04        36718.85\n",
       "1       6.0      0.05         8029.86\n",
       "2      14.0      0.04        15934.52\n",
       "3      26.0      0.06        53403.22\n",
       "4       2.0      0.08         2526.48"
      ]
     },
     "execution_count": 14,
     "metadata": {},
     "output_type": "execute_result"
    }
   ],
   "source": [
    "lineitem_pd.head(5)"
   ]
  },
  {
   "cell_type": "code",
   "execution_count": 15,
   "id": "945be639",
   "metadata": {},
   "outputs": [],
   "source": [
    "# スケーリング\n",
    "x = (lineitem_pd[['QUANTITY', 'DISCOUNT']] - lineitem_pd.mean()[['QUANTITY', 'DISCOUNT']]) / lineitem_pd.std()[['QUANTITY', 'DISCOUNT']]\n",
    "x['BIAS'] = 1\n",
    "x = x.values"
   ]
  },
  {
   "cell_type": "code",
   "execution_count": 16,
   "id": "8b4a4c82",
   "metadata": {},
   "outputs": [
    {
     "data": {
      "text/plain": [
       "array([[2.16370639e+04],\n",
       "       [1.59860782e+00],\n",
       "       [3.82380554e+04]])"
      ]
     },
     "execution_count": 16,
     "metadata": {},
     "output_type": "execute_result"
    }
   ],
   "source": [
    "y = lineitem_pd[['EXTENDED_PRICE']].values\n",
    "xt = x.T\n",
    "xtx_inv = np.linalg.inv(np.dot(xt, x))\n",
    "xty = np.dot(xt, y)\n",
    "w = np.dot(xtx_inv, xty)\n",
    "w"
   ]
  },
  {
   "cell_type": "code",
   "execution_count": 17,
   "id": "cdc15ae3",
   "metadata": {},
   "outputs": [],
   "source": [
    "import matplotlib.pyplot as plt\n",
    "from mpl_toolkits.mplot3d import Axes3D"
   ]
  },
  {
   "cell_type": "code",
   "execution_count": 18,
   "id": "32d6a530",
   "metadata": {},
   "outputs": [
    {
     "data": {
      "image/png": "[encoded data removed]",
      "text/plain": [
       "<Figure size 640x480 with 1 Axes>"
      ]
     },
     "metadata": {},
     "output_type": "display_data"
    }
   ],
   "source": [
    "fig = plt.figure()\n",
    "ax = fig.add_subplot(projection='3d')\n",
    "ax.scatter(lineitem_pd['QUANTITY'], lineitem_pd['DISCOUNT'], lineitem_pd['EXTENDED_PRICE'], s=5, c='red')\n",
    "\n",
    "plt.show()"
   ]
  },
  {
   "cell_type": "code",
   "execution_count": 20,
   "id": "af16fa94",
   "metadata": {},
   "outputs": [],
   "source": [
    "import random\n",
    "random.seed(1)"
   ]
  },
  {
   "cell_type": "code",
   "execution_count": 103,
   "id": "d8bbc904",
   "metadata": {
    "scrolled": true
   },
   "outputs": [],
   "source": [
    "x = np.array([ [i, i%5, -i%10, i%2] for i in range(50)])"
   ]
  },
  {
   "cell_type": "code",
   "execution_count": 117,
   "id": "b5e877fa",
   "metadata": {
    "scrolled": true
   },
   "outputs": [
    {
     "data": {
      "text/plain": [
       "array([[ 0.,  0.,  0.,  0.,  1.],\n",
       "       [ 1.,  1.,  9.,  1.,  1.],\n",
       "       [ 2.,  2.,  8.,  0.,  1.],\n",
       "       [ 3.,  3.,  7.,  1.,  1.],\n",
       "       [ 4.,  4.,  6.,  0.,  1.],\n",
       "       [ 5.,  0.,  5.,  1.,  1.],\n",
       "       [ 6.,  1.,  4.,  0.,  1.],\n",
       "       [ 7.,  2.,  3.,  1.,  1.],\n",
       "       [ 8.,  3.,  2.,  0.,  1.],\n",
       "       [ 9.,  4.,  1.,  1.,  1.],\n",
       "       [10.,  0.,  0.,  0.,  1.],\n",
       "       [11.,  1.,  9.,  1.,  1.],\n",
       "       [12.,  2.,  8.,  0.,  1.],\n",
       "       [13.,  3.,  7.,  1.,  1.],\n",
       "       [14.,  4.,  6.,  0.,  1.],\n",
       "       [15.,  0.,  5.,  1.,  1.],\n",
       "       [16.,  1.,  4.,  0.,  1.],\n",
       "       [17.,  2.,  3.,  1.,  1.],\n",
       "       [18.,  3.,  2.,  0.,  1.],\n",
       "       [19.,  4.,  1.,  1.,  1.],\n",
       "       [20.,  0.,  0.,  0.,  1.],\n",
       "       [21.,  1.,  9.,  1.,  1.],\n",
       "       [22.,  2.,  8.,  0.,  1.],\n",
       "       [23.,  3.,  7.,  1.,  1.],\n",
       "       [24.,  4.,  6.,  0.,  1.],\n",
       "       [25.,  0.,  5.,  1.,  1.],\n",
       "       [26.,  1.,  4.,  0.,  1.],\n",
       "       [27.,  2.,  3.,  1.,  1.],\n",
       "       [28.,  3.,  2.,  0.,  1.],\n",
       "       [29.,  4.,  1.,  1.,  1.],\n",
       "       [30.,  0.,  0.,  0.,  1.],\n",
       "       [31.,  1.,  9.,  1.,  1.],\n",
       "       [32.,  2.,  8.,  0.,  1.],\n",
       "       [33.,  3.,  7.,  1.,  1.],\n",
       "       [34.,  4.,  6.,  0.,  1.],\n",
       "       [35.,  0.,  5.,  1.,  1.],\n",
       "       [36.,  1.,  4.,  0.,  1.],\n",
       "       [37.,  2.,  3.,  1.,  1.],\n",
       "       [38.,  3.,  2.,  0.,  1.],\n",
       "       [39.,  4.,  1.,  1.,  1.],\n",
       "       [40.,  0.,  0.,  0.,  1.],\n",
       "       [41.,  1.,  9.,  1.,  1.],\n",
       "       [42.,  2.,  8.,  0.,  1.],\n",
       "       [43.,  3.,  7.,  1.,  1.],\n",
       "       [44.,  4.,  6.,  0.,  1.],\n",
       "       [45.,  0.,  5.,  1.,  1.],\n",
       "       [46.,  1.,  4.,  0.,  1.],\n",
       "       [47.,  2.,  3.,  1.,  1.],\n",
       "       [48.,  3.,  2.,  0.,  1.],\n",
       "       [49.,  4.,  1.,  1.,  1.]])"
      ]
     },
     "execution_count": 117,
     "metadata": {},
     "output_type": "execute_result"
    }
   ],
   "source": [
    "x = np.c_[x, np.ones((len(x), 1))]\n",
    "x"
   ]
  },
  {
   "cell_type": "code",
   "execution_count": 105,
   "id": "fd3e69a2",
   "metadata": {},
   "outputs": [],
   "source": [
    "y = np.array([[2 * x[i][0] + (-3) * x[i][1] + 5 * x[i][2] + 10 * x[i][3] + random.uniform(-10, 10)] for i in range(50)])"
   ]
  },
  {
   "cell_type": "code",
   "execution_count": 106,
   "id": "28bcaf3c",
   "metadata": {
    "scrolled": true
   },
   "outputs": [
    {
     "data": {
      "text/plain": [
       "array([[ -5.09220011],\n",
       "       [ 55.14354986],\n",
       "       [ 34.60214334],\n",
       "       [ 38.77326672],\n",
       "       [ 31.67242837],\n",
       "       [ 54.1259232 ],\n",
       "       [ 30.68280638],\n",
       "       [ 25.0937586 ],\n",
       "       [ 20.05149865],\n",
       "       [ 19.97223436],\n",
       "       [ 29.76061114],\n",
       "       [ 78.3876299 ],\n",
       "       [ 64.69572213],\n",
       "       [ 66.0257252 ],\n",
       "       [ 46.71238012],\n",
       "       [ 72.93636784],\n",
       "       [ 55.63234129],\n",
       "       [ 48.82651775],\n",
       "       [ 30.1406379 ],\n",
       "       [ 38.40703738],\n",
       "       [ 40.42155345],\n",
       "       [ 85.9476018 ],\n",
       "       [ 74.90758573],\n",
       "       [ 83.49811328],\n",
       "       [ 56.87149237],\n",
       "       [ 91.29897353],\n",
       "       [ 72.02234091],\n",
       "       [ 69.27300343],\n",
       "       [ 52.96641963],\n",
       "       [ 58.05232282],\n",
       "       [ 56.50577392],\n",
       "       [118.97027554],\n",
       "       [ 98.02113715],\n",
       "       [102.52256795],\n",
       "       [ 78.97512998],\n",
       "       [113.28836005],\n",
       "       [ 85.51145857],\n",
       "       [ 89.55128905],\n",
       "       [ 68.37692279],\n",
       "       [ 90.58823164],\n",
       "       [ 79.59395684],\n",
       "       [142.25769475],\n",
       "       [126.55234485],\n",
       "       [131.39504286],\n",
       "       [112.31258575],\n",
       "       [133.5088645 ],\n",
       "       [117.44578647],\n",
       "       [119.02735356],\n",
       "       [ 89.69162432],\n",
       "       [101.47423445]])"
      ]
     },
     "execution_count": 106,
     "metadata": {},
     "output_type": "execute_result"
    }
   ],
   "source": [
    "y"
   ]
  },
  {
   "cell_type": "code",
   "execution_count": 118,
   "id": "6c4c541f",
   "metadata": {},
   "outputs": [
    {
     "data": {
      "image/png": "[encoded data removed]",
      "text/plain": [
       "<Figure size 640x480 with 1 Axes>"
      ]
     },
     "metadata": {},
     "output_type": "display_data"
    }
   ],
   "source": [
    "plt.scatter([r[0] for r in x], y, label='観測データ')\n",
    "\n",
    "plt.legend()\n",
    "plt.show()"
   ]
  },
  {
   "cell_type": "code",
   "execution_count": 119,
   "id": "e4698dca",
   "metadata": {},
   "outputs": [],
   "source": [
    "xt = x.T\n",
    "xt_x_inv = np.linalg.inv(np.dot(xt, x))\n",
    "xt_y = np.dot(xt, y)\n",
    "w = np.dot(xt_x_inv, xt_y)"
   ]
  },
  {
   "cell_type": "code",
   "execution_count": 120,
   "id": "abdecb7c",
   "metadata": {},
   "outputs": [
    {
     "data": {
      "text/plain": [
       "array([[ 2.06907173],\n",
       "       [-4.28087054],\n",
       "       [ 5.41135369],\n",
       "       [11.6920329 ],\n",
       "       [-0.78001599]])"
      ]
     },
     "execution_count": 120,
     "metadata": {},
     "output_type": "execute_result"
    }
   ],
   "source": [
    "w"
   ]
  },
  {
   "cell_type": "code",
   "execution_count": 121,
   "id": "d4f896ee",
   "metadata": {},
   "outputs": [
    {
     "data": {
      "image/png": "[encoded data removed]",
      "text/plain": [
       "<Figure size 640x480 with 1 Axes>"
      ]
     },
     "metadata": {},
     "output_type": "display_data"
    }
   ],
   "source": [
    "plt.scatter([r[0] for r in x], y, label='観測データ')\n",
    "plt.scatter([r[0] for r in x], [w[0]*r[0] + w[1]*r[1] + w[2]*r[2] + w[3]*r[3] for r in x], label='予測データ', color='red')\n",
    "\n",
    "plt.legend()\n",
    "plt.show()"
   ]
  },
  {
   "cell_type": "code",
   "execution_count": 136,
   "id": "a2714f9e",
   "metadata": {
    "scrolled": true
   },
   "outputs": [
    {
     "data": {
      "text/plain": [
       "array([[-1.69774938, -1.41421356, -1.5666989 , -1.        ,  1.        ],\n",
       "       [-1.62845348, -0.70710678,  1.5666989 ,  1.        ,  1.        ],\n",
       "       [-1.55915759,  0.        ,  1.21854359, -1.        ,  1.        ],\n",
       "       [-1.4898617 ,  0.70710678,  0.87038828,  1.        ,  1.        ],\n",
       "       [-1.4205658 ,  1.41421356,  0.52223297, -1.        ,  1.        ],\n",
       "       [-1.35126991, -1.41421356,  0.17407766,  1.        ,  1.        ],\n",
       "       [-1.28197402, -0.70710678, -0.17407766, -1.        ,  1.        ],\n",
       "       [-1.21267813,  0.        , -0.52223297,  1.        ,  1.        ],\n",
       "       [-1.14338223,  0.70710678, -0.87038828, -1.        ,  1.        ],\n",
       "       [-1.07408634,  1.41421356, -1.21854359,  1.        ,  1.        ],\n",
       "       [-1.00479045, -1.41421356, -1.5666989 , -1.        ,  1.        ],\n",
       "       [-0.93549455, -0.70710678,  1.5666989 ,  1.        ,  1.        ],\n",
       "       [-0.86619866,  0.        ,  1.21854359, -1.        ,  1.        ],\n",
       "       [-0.79690277,  0.70710678,  0.87038828,  1.        ,  1.        ],\n",
       "       [-0.72760688,  1.41421356,  0.52223297, -1.        ,  1.        ],\n",
       "       [-0.65831098, -1.41421356,  0.17407766,  1.        ,  1.        ],\n",
       "       [-0.58901509, -0.70710678, -0.17407766, -1.        ,  1.        ],\n",
       "       [-0.5197192 ,  0.        , -0.52223297,  1.        ,  1.        ],\n",
       "       [-0.4504233 ,  0.70710678, -0.87038828, -1.        ,  1.        ],\n",
       "       [-0.38112741,  1.41421356, -1.21854359,  1.        ,  1.        ],\n",
       "       [-0.31183152, -1.41421356, -1.5666989 , -1.        ,  1.        ],\n",
       "       [-0.24253563, -0.70710678,  1.5666989 ,  1.        ,  1.        ],\n",
       "       [-0.17323973,  0.        ,  1.21854359, -1.        ,  1.        ],\n",
       "       [-0.10394384,  0.70710678,  0.87038828,  1.        ,  1.        ],\n",
       "       [-0.03464795,  1.41421356,  0.52223297, -1.        ,  1.        ],\n",
       "       [ 0.03464795, -1.41421356,  0.17407766,  1.        ,  1.        ],\n",
       "       [ 0.10394384, -0.70710678, -0.17407766, -1.        ,  1.        ],\n",
       "       [ 0.17323973,  0.        , -0.52223297,  1.        ,  1.        ],\n",
       "       [ 0.24253563,  0.70710678, -0.87038828, -1.        ,  1.        ],\n",
       "       [ 0.31183152,  1.41421356, -1.21854359,  1.        ,  1.        ],\n",
       "       [ 0.38112741, -1.41421356, -1.5666989 , -1.        ,  1.        ],\n",
       "       [ 0.4504233 , -0.70710678,  1.5666989 ,  1.        ,  1.        ],\n",
       "       [ 0.5197192 ,  0.        ,  1.21854359, -1.        ,  1.        ],\n",
       "       [ 0.58901509,  0.70710678,  0.87038828,  1.        ,  1.        ],\n",
       "       [ 0.65831098,  1.41421356,  0.52223297, -1.        ,  1.        ],\n",
       "       [ 0.72760688, -1.41421356,  0.17407766,  1.        ,  1.        ],\n",
       "       [ 0.79690277, -0.70710678, -0.17407766, -1.        ,  1.        ],\n",
       "       [ 0.86619866,  0.        , -0.52223297,  1.        ,  1.        ],\n",
       "       [ 0.93549455,  0.70710678, -0.87038828, -1.        ,  1.        ],\n",
       "       [ 1.00479045,  1.41421356, -1.21854359,  1.        ,  1.        ],\n",
       "       [ 1.07408634, -1.41421356, -1.5666989 , -1.        ,  1.        ],\n",
       "       [ 1.14338223, -0.70710678,  1.5666989 ,  1.        ,  1.        ],\n",
       "       [ 1.21267813,  0.        ,  1.21854359, -1.        ,  1.        ],\n",
       "       [ 1.28197402,  0.70710678,  0.87038828,  1.        ,  1.        ],\n",
       "       [ 1.35126991,  1.41421356,  0.52223297, -1.        ,  1.        ],\n",
       "       [ 1.4205658 , -1.41421356,  0.17407766,  1.        ,  1.        ],\n",
       "       [ 1.4898617 , -0.70710678, -0.17407766, -1.        ,  1.        ],\n",
       "       [ 1.55915759,  0.        , -0.52223297,  1.        ,  1.        ],\n",
       "       [ 1.62845348,  0.70710678, -0.87038828, -1.        ,  1.        ],\n",
       "       [ 1.69774938,  1.41421356, -1.21854359,  1.        ,  1.        ]])"
      ]
     },
     "execution_count": 136,
     "metadata": {},
     "output_type": "execute_result"
    }
   ],
   "source": [
    "x1_mean = np.mean(x[:, 0])\n",
    "x1_std = np.std(x[:, 0])\n",
    "x2_mean = np.mean(x[:, 1])\n",
    "x2_std = np.std(x[:, 1])\n",
    "x3_mean = np.mean(x[:, 2])\n",
    "x3_std = np.std(x[:, 2])\n",
    "x4_mean = np.mean(x[:, 3])\n",
    "x4_std = np.std(x[:, 3])\n",
    "                \n",
    "scaling_x = np.c_[\n",
    "    (x[:, 0] - x1_mean) / x1_std,\n",
    "    (x[:, 1] - x2_mean) / x2_std,\n",
    "    (x[:, 2] - x3_mean) / x3_std,\n",
    "    (x[:, 3] - x4_mean) / x4_std,\n",
    "    np.ones((len(x), 1))\n",
    "]\n",
    "scaling_x"
   ]
  },
  {
   "cell_type": "code",
   "execution_count": 137,
   "id": "c9a9892c",
   "metadata": {},
   "outputs": [
    {
     "data": {
      "text/plain": [
       "array([[29.85850454],\n",
       "       [-6.05406517],\n",
       "       [15.54293014],\n",
       "       [ 5.84601645],\n",
       "       [71.54760844]])"
      ]
     },
     "execution_count": 137,
     "metadata": {},
     "output_type": "execute_result"
    }
   ],
   "source": [
    "scaling_xt = scaling_x.T\n",
    "scaling_xt_x_inv = np.linalg.inv(np.dot(scaling_xt, scaling_x))\n",
    "scaling_xt_y = np.dot(scaling_xt, y)\n",
    "scaling_w = np.dot(scaling_xt_x_inv, scaling_xt_y)\n",
    "scaling_w"
   ]
  },
  {
   "cell_type": "code",
   "execution_count": 138,
   "id": "38734b4a",
   "metadata": {},
   "outputs": [
    {
     "data": {
      "image/png": "[encoded data removed]",
      "text/plain": [
       "<Figure size 640x480 with 1 Axes>"
      ]
     },
     "metadata": {},
     "output_type": "display_data"
    }
   ],
   "source": [
    "plt.scatter([r[0] for r in x], y, label='観測データ')\n",
    "plt.scatter(\n",
    "    [r[0] for r in x], \n",
    "    [scaling_w[0]*((r[0] - x1_mean) / x1_std) + \\\n",
    "     scaling_w[1]*((r[1] - x2_mean) / x2_std) + \\\n",
    "     scaling_w[2]*((r[2] - x3_mean) / x3_std) + \\\n",
    "     scaling_w[3]*((r[3] - x4_mean) / x4_std) + \\\n",
    "     scaling_w[4] for r in x], \n",
    "    label='予測データ', \n",
    "    color='red')\n",
    "\n",
    "plt.legend()\n",
    "plt.show()"
   ]
  }
 ],
 "metadata": {
  "kernelspec": {
   "display_name": "Python 3 (ipykernel)",
   "language": "python",
   "name": "python3"
  },
  "language_info": {
   "codemirror_mode": {
    "name": "ipython",
    "version": 3
   },
   "file_extension": ".py",
   "mimetype": "text/x-python",
   "name": "python",
   "nbconvert_exporter": "python",
   "pygments_lexer": "ipython3",
   "version": "3.8.13"
  }
 },
 "nbformat": 4,
 "nbformat_minor": 5
}
