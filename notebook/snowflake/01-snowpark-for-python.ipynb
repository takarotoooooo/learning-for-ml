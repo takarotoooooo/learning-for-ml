{
 "cells": [
  {
   "cell_type": "markdown",
   "id": "da2fe673",
   "metadata": {},
   "source": [
    "# Snowpark Pythonを使ってみる\n",
    "ここではsnowflakeが提供している下記のサンプルデータを利用する。 　\n",
    "\n",
    "https://docs.snowflake.com/ja/user-guide/sample-data-tpch.html"
   ]
  },
  {
   "cell_type": "code",
   "execution_count": 1,
   "id": "c389e814",
   "metadata": {},
   "outputs": [],
   "source": [
    "import os\n",
    "import sys\n",
    "import seaborn as sns\n",
    "from pathlib import Path\n",
    "sys.path.append(os.path.dirname(Path().resolve()))\n",
    "\n",
    "from modules.snowflake import Snowflake"
   ]
  },
  {
   "cell_type": "code",
   "execution_count": 2,
   "id": "eff410f8",
   "metadata": {},
   "outputs": [],
   "source": [
    "snowflake = Snowflake()"
   ]
  },
  {
   "cell_type": "code",
   "execution_count": 3,
   "id": "2558b726",
   "metadata": {},
   "outputs": [],
   "source": [
    "customer_df = snowflake.fetch_dataframe('SNOWFLAKE_SAMPLE_DATA.TPCH_SF1.CUSTOMER')"
   ]
  },
  {
   "cell_type": "code",
   "execution_count": 4,
   "id": "8b9bfbea",
   "metadata": {},
   "outputs": [
    {
     "data": {
      "text/plain": [
       "snowflake.snowpark.table.Table"
      ]
     },
     "execution_count": 4,
     "metadata": {},
     "output_type": "execute_result"
    }
   ],
   "source": [
    "type(customer_df)"
   ]
  },
  {
   "cell_type": "code",
   "execution_count": 5,
   "id": "613c301d",
   "metadata": {},
   "outputs": [
    {
     "name": "stdout",
     "output_type": "stream",
     "text": [
      "---------DATAFRAME EXECUTION PLAN----------\n",
      "Query List:\n",
      "1.\n",
      "SELECT  *  FROM (SNOWFLAKE_SAMPLE_DATA.TPCH_SF1.CUSTOMER)\n",
      "Logical Execution Plan:\n",
      "GlobalStats:\n",
      "    partitionsTotal=3\n",
      "    partitionsAssigned=3\n",
      "    bytesAssigned=10747904\n",
      "Operations:\n",
      "1:0     ->Result  CUSTOMER.C_CUSTKEY, CUSTOMER.C_NAME, CUSTOMER.C_ADDRESS, CUSTOMER.C_NATIONKEY, CUSTOMER.C_PHONE, CUSTOMER.C_ACCTBAL, CUSTOMER.C_MKTSEGMENT, CUSTOMER.C_COMMENT  \n",
      "1:1          ->TableScan  SNOWFLAKE_SAMPLE_DATA.TPCH_SF1.CUSTOMER  C_CUSTKEY, C_NAME, C_ADDRESS, C_NATIONKEY, C_PHONE, C_ACCTBAL, C_MKTSEGMENT, C_COMMENT  {partitionsTotal=3, partitionsAssigned=3, bytesAssigned=10747904}\n",
      "\n",
      "--------------------------------------------\n"
     ]
    }
   ],
   "source": [
    "# explain()をすると実行されるstatementが確認できる\n",
    "customer_df.explain()"
   ]
  },
  {
   "cell_type": "code",
   "execution_count": 6,
   "id": "944301d7",
   "metadata": {},
   "outputs": [],
   "source": [
    "# to_pandas()とするとpandasのDataFrameとしてデータを取得できる\n",
    "# このタイミングでSQLがコンパイルされsnowflakeでstatementが実行される\n",
    "customer_pd = customer_df.to_pandas()"
   ]
  },
  {
   "cell_type": "code",
   "execution_count": 7,
   "id": "35d0c936",
   "metadata": {},
   "outputs": [
    {
     "data": {
      "text/plain": [
       "pandas.core.frame.DataFrame"
      ]
     },
     "execution_count": 7,
     "metadata": {},
     "output_type": "execute_result"
    }
   ],
   "source": [
    "type(customer_pd)"
   ]
  },
  {
   "cell_type": "code",
   "execution_count": 8,
   "id": "a58c4ad0",
   "metadata": {},
   "outputs": [
    {
     "data": {
      "text/html": [
       "<div>\n",
       "<style scoped>\n",
       "    .dataframe tbody tr th:only-of-type {\n",
       "        vertical-align: middle;\n",
       "    }\n",
       "\n",
       "    .dataframe tbody tr th {\n",
       "        vertical-align: top;\n",
       "    }\n",
       "\n",
       "    .dataframe thead th {\n",
       "        text-align: right;\n",
       "    }\n",
       "</style>\n",
       "<table border=\"1\" class=\"dataframe\">\n",
       "  <thead>\n",
       "    <tr style=\"text-align: right;\">\n",
       "      <th></th>\n",
       "      <th>C_CUSTKEY</th>\n",
       "      <th>C_NAME</th>\n",
       "      <th>C_ADDRESS</th>\n",
       "      <th>C_NATIONKEY</th>\n",
       "      <th>C_PHONE</th>\n",
       "      <th>C_ACCTBAL</th>\n",
       "      <th>C_MKTSEGMENT</th>\n",
       "      <th>C_COMMENT</th>\n",
       "    </tr>\n",
       "  </thead>\n",
       "  <tbody>\n",
       "    <tr>\n",
       "      <th>0</th>\n",
       "      <td>1</td>\n",
       "      <td>Customer#000000001</td>\n",
       "      <td>IVhzIApeRb ot,c,E</td>\n",
       "      <td>15</td>\n",
       "      <td>25-989-741-2988</td>\n",
       "      <td>711.56</td>\n",
       "      <td>BUILDING</td>\n",
       "      <td>to the even, regular platelets. regular, ironi...</td>\n",
       "    </tr>\n",
       "    <tr>\n",
       "      <th>1</th>\n",
       "      <td>2</td>\n",
       "      <td>Customer#000000002</td>\n",
       "      <td>XSTf4,NCwDVaWNe6tEgvwfmRchLXak</td>\n",
       "      <td>13</td>\n",
       "      <td>23-768-687-3665</td>\n",
       "      <td>121.65</td>\n",
       "      <td>AUTOMOBILE</td>\n",
       "      <td>l accounts. blithely ironic theodolites integr...</td>\n",
       "    </tr>\n",
       "    <tr>\n",
       "      <th>2</th>\n",
       "      <td>3</td>\n",
       "      <td>Customer#000000003</td>\n",
       "      <td>MG9kdTD2WBHm</td>\n",
       "      <td>1</td>\n",
       "      <td>11-719-748-3364</td>\n",
       "      <td>7498.12</td>\n",
       "      <td>AUTOMOBILE</td>\n",
       "      <td>deposits eat slyly ironic, even instructions....</td>\n",
       "    </tr>\n",
       "    <tr>\n",
       "      <th>3</th>\n",
       "      <td>4</td>\n",
       "      <td>Customer#000000004</td>\n",
       "      <td>XxVSJsLAGtn</td>\n",
       "      <td>4</td>\n",
       "      <td>14-128-190-5944</td>\n",
       "      <td>2866.83</td>\n",
       "      <td>MACHINERY</td>\n",
       "      <td>requests. final, regular ideas sleep final accou</td>\n",
       "    </tr>\n",
       "    <tr>\n",
       "      <th>4</th>\n",
       "      <td>5</td>\n",
       "      <td>Customer#000000005</td>\n",
       "      <td>KvpyuHCplrB84WgAiGV6sYpZq7Tj</td>\n",
       "      <td>3</td>\n",
       "      <td>13-750-942-6364</td>\n",
       "      <td>794.47</td>\n",
       "      <td>HOUSEHOLD</td>\n",
       "      <td>n accounts will have to unwind. foxes cajole a...</td>\n",
       "    </tr>\n",
       "  </tbody>\n",
       "</table>\n",
       "</div>"
      ],
      "text/plain": [
       "   C_CUSTKEY              C_NAME                       C_ADDRESS  C_NATIONKEY  \\\n",
       "0          1  Customer#000000001               IVhzIApeRb ot,c,E           15   \n",
       "1          2  Customer#000000002  XSTf4,NCwDVaWNe6tEgvwfmRchLXak           13   \n",
       "2          3  Customer#000000003                    MG9kdTD2WBHm            1   \n",
       "3          4  Customer#000000004                     XxVSJsLAGtn            4   \n",
       "4          5  Customer#000000005    KvpyuHCplrB84WgAiGV6sYpZq7Tj            3   \n",
       "\n",
       "           C_PHONE  C_ACCTBAL C_MKTSEGMENT  \\\n",
       "0  25-989-741-2988     711.56     BUILDING   \n",
       "1  23-768-687-3665     121.65   AUTOMOBILE   \n",
       "2  11-719-748-3364    7498.12   AUTOMOBILE   \n",
       "3  14-128-190-5944    2866.83    MACHINERY   \n",
       "4  13-750-942-6364     794.47    HOUSEHOLD   \n",
       "\n",
       "                                           C_COMMENT  \n",
       "0  to the even, regular platelets. regular, ironi...  \n",
       "1  l accounts. blithely ironic theodolites integr...  \n",
       "2   deposits eat slyly ironic, even instructions....  \n",
       "3   requests. final, regular ideas sleep final accou  \n",
       "4  n accounts will have to unwind. foxes cajole a...  "
      ]
     },
     "execution_count": 8,
     "metadata": {},
     "output_type": "execute_result"
    }
   ],
   "source": [
    "customer_pd.head(5)"
   ]
  },
  {
   "cell_type": "markdown",
   "id": "77650ca3",
   "metadata": {},
   "source": [
    "## select"
   ]
  },
  {
   "cell_type": "code",
   "execution_count": 9,
   "id": "6d9cacc7",
   "metadata": {},
   "outputs": [],
   "source": [
    "from snowflake.snowpark.functions import col, lit"
   ]
  },
  {
   "cell_type": "code",
   "execution_count": 10,
   "id": "aa61204d",
   "metadata": {},
   "outputs": [],
   "source": [
    "# カラム名の リネーム\n",
    "rename_customer_df = customer_df.select(\n",
    "    col('C_CUSTKEY').alias('ID'), # カラム C_CUSTKEY の値を ID として取得\n",
    "    col('C_NAME').alias('NAME'), # カラム C_NAME の値を NAME として取得\n",
    "    lit('C_CUSTKEY').alias('LITERAL') # 文字列 C_CUSTKEY を LITERALとして取得\n",
    ")"
   ]
  },
  {
   "cell_type": "code",
   "execution_count": 11,
   "id": "56634b9c",
   "metadata": {},
   "outputs": [
    {
     "name": "stdout",
     "output_type": "stream",
     "text": [
      "---------DATAFRAME EXECUTION PLAN----------\n",
      "Query List:\n",
      "1.\n",
      "SELECT \"C_CUSTKEY\" AS \"ID\", \"C_NAME\" AS \"NAME\", 'C_CUSTKEY' AS \"LITERAL\" FROM ( SELECT  *  FROM (SNOWFLAKE_SAMPLE_DATA.TPCH_SF1.CUSTOMER))\n",
      "Logical Execution Plan:\n",
      "GlobalStats:\n",
      "    partitionsTotal=3\n",
      "    partitionsAssigned=3\n",
      "    bytesAssigned=10747904\n",
      "Operations:\n",
      "1:0     ->Result  CUSTOMER.C_CUSTKEY, CUSTOMER.C_NAME, 'C_CUSTKEY'  \n",
      "1:1          ->TableScan  SNOWFLAKE_SAMPLE_DATA.TPCH_SF1.CUSTOMER  C_CUSTKEY, C_NAME  {partitionsTotal=3, partitionsAssigned=3, bytesAssigned=10747904}\n",
      "\n",
      "--------------------------------------------\n"
     ]
    }
   ],
   "source": [
    "rename_customer_df.explain()"
   ]
  },
  {
   "cell_type": "code",
   "execution_count": 12,
   "id": "d201c310",
   "metadata": {},
   "outputs": [
    {
     "data": {
      "text/html": [
       "<div>\n",
       "<style scoped>\n",
       "    .dataframe tbody tr th:only-of-type {\n",
       "        vertical-align: middle;\n",
       "    }\n",
       "\n",
       "    .dataframe tbody tr th {\n",
       "        vertical-align: top;\n",
       "    }\n",
       "\n",
       "    .dataframe thead th {\n",
       "        text-align: right;\n",
       "    }\n",
       "</style>\n",
       "<table border=\"1\" class=\"dataframe\">\n",
       "  <thead>\n",
       "    <tr style=\"text-align: right;\">\n",
       "      <th></th>\n",
       "      <th>ID</th>\n",
       "      <th>NAME</th>\n",
       "      <th>LITERAL</th>\n",
       "    </tr>\n",
       "  </thead>\n",
       "  <tbody>\n",
       "    <tr>\n",
       "      <th>0</th>\n",
       "      <td>1</td>\n",
       "      <td>Customer#000000001</td>\n",
       "      <td>C_CUSTKEY</td>\n",
       "    </tr>\n",
       "    <tr>\n",
       "      <th>1</th>\n",
       "      <td>2</td>\n",
       "      <td>Customer#000000002</td>\n",
       "      <td>C_CUSTKEY</td>\n",
       "    </tr>\n",
       "    <tr>\n",
       "      <th>2</th>\n",
       "      <td>3</td>\n",
       "      <td>Customer#000000003</td>\n",
       "      <td>C_CUSTKEY</td>\n",
       "    </tr>\n",
       "    <tr>\n",
       "      <th>3</th>\n",
       "      <td>4</td>\n",
       "      <td>Customer#000000004</td>\n",
       "      <td>C_CUSTKEY</td>\n",
       "    </tr>\n",
       "    <tr>\n",
       "      <th>4</th>\n",
       "      <td>5</td>\n",
       "      <td>Customer#000000005</td>\n",
       "      <td>C_CUSTKEY</td>\n",
       "    </tr>\n",
       "  </tbody>\n",
       "</table>\n",
       "</div>"
      ],
      "text/plain": [
       "   ID                NAME    LITERAL\n",
       "0   1  Customer#000000001  C_CUSTKEY\n",
       "1   2  Customer#000000002  C_CUSTKEY\n",
       "2   3  Customer#000000003  C_CUSTKEY\n",
       "3   4  Customer#000000004  C_CUSTKEY\n",
       "4   5  Customer#000000005  C_CUSTKEY"
      ]
     },
     "execution_count": 12,
     "metadata": {},
     "output_type": "execute_result"
    }
   ],
   "source": [
    "rename_customer_df.to_pandas().head(5)"
   ]
  },
  {
   "cell_type": "markdown",
   "id": "3071d4a4",
   "metadata": {},
   "source": [
    "## filter"
   ]
  },
  {
   "cell_type": "code",
   "execution_count": 13,
   "id": "2ec600c8",
   "metadata": {},
   "outputs": [],
   "source": [
    "filtered_customer_df = customer_df.filter(\n",
    "    (col('C_NATIONKEY') == 24)\n",
    ")"
   ]
  },
  {
   "cell_type": "code",
   "execution_count": 14,
   "id": "df323713",
   "metadata": {},
   "outputs": [
    {
     "name": "stdout",
     "output_type": "stream",
     "text": [
      "---------DATAFRAME EXECUTION PLAN----------\n",
      "Query List:\n",
      "1.\n",
      "SELECT  *  FROM ( SELECT  *  FROM (SNOWFLAKE_SAMPLE_DATA.TPCH_SF1.CUSTOMER)) WHERE (\"C_NATIONKEY\" = 24 :: INT)\n",
      "Logical Execution Plan:\n",
      "GlobalStats:\n",
      "    partitionsTotal=3\n",
      "    partitionsAssigned=3\n",
      "    bytesAssigned=10747904\n",
      "Operations:\n",
      "1:0     ->Result  CUSTOMER.C_CUSTKEY, CUSTOMER.C_NAME, CUSTOMER.C_ADDRESS, CUSTOMER.C_NATIONKEY, CUSTOMER.C_PHONE, CUSTOMER.C_ACCTBAL, CUSTOMER.C_MKTSEGMENT, CUSTOMER.C_COMMENT  \n",
      "1:1          ->Filter  CUSTOMER.C_NATIONKEY = 24  \n",
      "1:2               ->TableScan  SNOWFLAKE_SAMPLE_DATA.TPCH_SF1.CUSTOMER  C_CUSTKEY, C_NAME, C_ADDRESS, C_NATIONKEY, C_PHONE, C_ACCTBAL, C_MKTSEGMENT, C_COMMENT  {partitionsTotal=3, partitionsAssigned=3, bytesAssigned=10747904}\n",
      "\n",
      "--------------------------------------------\n"
     ]
    }
   ],
   "source": [
    "filtered_customer_df.explain()"
   ]
  },
  {
   "cell_type": "code",
   "execution_count": 15,
   "id": "7ff70e82",
   "metadata": {},
   "outputs": [
    {
     "data": {
      "text/html": [
       "<div>\n",
       "<style scoped>\n",
       "    .dataframe tbody tr th:only-of-type {\n",
       "        vertical-align: middle;\n",
       "    }\n",
       "\n",
       "    .dataframe tbody tr th {\n",
       "        vertical-align: top;\n",
       "    }\n",
       "\n",
       "    .dataframe thead th {\n",
       "        text-align: right;\n",
       "    }\n",
       "</style>\n",
       "<table border=\"1\" class=\"dataframe\">\n",
       "  <thead>\n",
       "    <tr style=\"text-align: right;\">\n",
       "      <th></th>\n",
       "      <th>C_CUSTKEY</th>\n",
       "      <th>C_NAME</th>\n",
       "      <th>C_ADDRESS</th>\n",
       "      <th>C_NATIONKEY</th>\n",
       "      <th>C_PHONE</th>\n",
       "      <th>C_ACCTBAL</th>\n",
       "      <th>C_MKTSEGMENT</th>\n",
       "      <th>C_COMMENT</th>\n",
       "    </tr>\n",
       "  </thead>\n",
       "  <tbody>\n",
       "    <tr>\n",
       "      <th>0</th>\n",
       "      <td>117</td>\n",
       "      <td>Customer#000000117</td>\n",
       "      <td>uNhM,PzsRA3S,5Y Ge5Npuhi</td>\n",
       "      <td>24</td>\n",
       "      <td>34-403-631-3505</td>\n",
       "      <td>3950.83</td>\n",
       "      <td>FURNITURE</td>\n",
       "      <td>affix. instructions are furiously sl</td>\n",
       "    </tr>\n",
       "    <tr>\n",
       "      <th>1</th>\n",
       "      <td>213</td>\n",
       "      <td>Customer#000000213</td>\n",
       "      <td>NpqMYBhBcWk8mnEta</td>\n",
       "      <td>24</td>\n",
       "      <td>34-768-700-9764</td>\n",
       "      <td>9987.71</td>\n",
       "      <td>HOUSEHOLD</td>\n",
       "      <td>al deposits. final instructions boost carefull...</td>\n",
       "    </tr>\n",
       "    <tr>\n",
       "      <th>2</th>\n",
       "      <td>339</td>\n",
       "      <td>Customer#000000339</td>\n",
       "      <td>jUs1Im28boIduGhp5vbKK50gM5ov7xH9G</td>\n",
       "      <td>24</td>\n",
       "      <td>34-992-529-2023</td>\n",
       "      <td>8438.07</td>\n",
       "      <td>HOUSEHOLD</td>\n",
       "      <td>ix. ironic, special tithes detect dog</td>\n",
       "    </tr>\n",
       "    <tr>\n",
       "      <th>3</th>\n",
       "      <td>365</td>\n",
       "      <td>Customer#000000365</td>\n",
       "      <td>QiZRz y1xU</td>\n",
       "      <td>24</td>\n",
       "      <td>34-708-696-5226</td>\n",
       "      <td>737.03</td>\n",
       "      <td>HOUSEHOLD</td>\n",
       "      <td>counts. unusual packages are blithely foxes. u...</td>\n",
       "    </tr>\n",
       "    <tr>\n",
       "      <th>4</th>\n",
       "      <td>386</td>\n",
       "      <td>Customer#000000386</td>\n",
       "      <td>DeQxsCxixT8RQ7JV6mddRYGDGQ2WM94</td>\n",
       "      <td>24</td>\n",
       "      <td>34-193-143-1425</td>\n",
       "      <td>232.01</td>\n",
       "      <td>BUILDING</td>\n",
       "      <td>counts. blithely permanent deposits wake slyly...</td>\n",
       "    </tr>\n",
       "  </tbody>\n",
       "</table>\n",
       "</div>"
      ],
      "text/plain": [
       "   C_CUSTKEY              C_NAME                          C_ADDRESS  \\\n",
       "0        117  Customer#000000117           uNhM,PzsRA3S,5Y Ge5Npuhi   \n",
       "1        213  Customer#000000213                  NpqMYBhBcWk8mnEta   \n",
       "2        339  Customer#000000339  jUs1Im28boIduGhp5vbKK50gM5ov7xH9G   \n",
       "3        365  Customer#000000365                         QiZRz y1xU   \n",
       "4        386  Customer#000000386    DeQxsCxixT8RQ7JV6mddRYGDGQ2WM94   \n",
       "\n",
       "   C_NATIONKEY          C_PHONE  C_ACCTBAL C_MKTSEGMENT  \\\n",
       "0           24  34-403-631-3505    3950.83    FURNITURE   \n",
       "1           24  34-768-700-9764    9987.71    HOUSEHOLD   \n",
       "2           24  34-992-529-2023    8438.07    HOUSEHOLD   \n",
       "3           24  34-708-696-5226     737.03    HOUSEHOLD   \n",
       "4           24  34-193-143-1425     232.01     BUILDING   \n",
       "\n",
       "                                           C_COMMENT  \n",
       "0               affix. instructions are furiously sl  \n",
       "1  al deposits. final instructions boost carefull...  \n",
       "2              ix. ironic, special tithes detect dog  \n",
       "3  counts. unusual packages are blithely foxes. u...  \n",
       "4  counts. blithely permanent deposits wake slyly...  "
      ]
     },
     "execution_count": 15,
     "metadata": {},
     "output_type": "execute_result"
    }
   ],
   "source": [
    "filtered_customer_df.to_pandas().head(5)"
   ]
  },
  {
   "cell_type": "markdown",
   "id": "5c381d28",
   "metadata": {},
   "source": [
    "## group_by, agg, sort"
   ]
  },
  {
   "cell_type": "code",
   "execution_count": 16,
   "id": "e949ef65",
   "metadata": {},
   "outputs": [],
   "source": [
    "from snowflake.snowpark.functions import count, count_distinct"
   ]
  },
  {
   "cell_type": "code",
   "execution_count": 17,
   "id": "274d07a5",
   "metadata": {},
   "outputs": [],
   "source": [
    "grouped_customer_df = customer_df.group_by([\n",
    "    col('C_NATIONKEY')\n",
    "]).agg([\n",
    "    count(col('C_NAME')).alias('NUM_NAMES'),\n",
    "    count_distinct(col('C_MKTSEGMENT')).alias('DISTINCT_NUM_MKTSEGMENT')\n",
    "]).sort(\n",
    "    col('C_NATIONKEY').asc(),\n",
    "    col('NUM_NAMES').desc()\n",
    ")"
   ]
  },
  {
   "cell_type": "code",
   "execution_count": 18,
   "id": "f4fdeef8",
   "metadata": {},
   "outputs": [
    {
     "name": "stdout",
     "output_type": "stream",
     "text": [
      "---------DATAFRAME EXECUTION PLAN----------\n",
      "Query List:\n",
      "1.\n",
      "SELECT  *  FROM ( SELECT \"C_NATIONKEY\", count(\"C_NAME\") AS \"NUM_NAMES\", count( DISTINCT \"C_MKTSEGMENT\") AS \"DISTINCT_NUM_MKTSEGMENT\" FROM ( SELECT  *  FROM (SNOWFLAKE_SAMPLE_DATA.TPCH_SF1.CUSTOMER)) GROUP BY \"C_NATIONKEY\") ORDER BY \"C_NATIONKEY\" ASC NULLS FIRST, \"NUM_NAMES\" DESC NULLS LAST\n",
      "Logical Execution Plan:\n",
      "GlobalStats:\n",
      "    partitionsTotal=3\n",
      "    partitionsAssigned=3\n",
      "    bytesAssigned=10747904\n",
      "Operations:\n",
      "1:0     ->Result  CUSTOMER.C_NATIONKEY, COUNT(CUSTOMER.C_NAME), COUNT(DISTINCT CUSTOMER.C_MKTSEGMENT)  \n",
      "1:1          ->Sort  CUSTOMER.C_NATIONKEY ASC NULLS FIRST, COUNT(CUSTOMER.C_NAME) DESC NULLS LAST  \n",
      "1:2               ->Aggregate  aggExprs: [COUNT(CUSTOMER.C_NAME), COUNT(DISTINCT CUSTOMER.C_MKTSEGMENT)], groupKeys: [CUSTOMER.C_NATIONKEY]  \n",
      "1:3                    ->TableScan  SNOWFLAKE_SAMPLE_DATA.TPCH_SF1.CUSTOMER  C_NAME, C_NATIONKEY, C_MKTSEGMENT  {partitionsTotal=3, partitionsAssigned=3, bytesAssigned=10747904}\n",
      "\n",
      "--------------------------------------------\n"
     ]
    }
   ],
   "source": [
    "grouped_customer_df.explain()"
   ]
  },
  {
   "cell_type": "code",
   "execution_count": 19,
   "id": "d41c8cf1",
   "metadata": {},
   "outputs": [
    {
     "data": {
      "text/html": [
       "<div>\n",
       "<style scoped>\n",
       "    .dataframe tbody tr th:only-of-type {\n",
       "        vertical-align: middle;\n",
       "    }\n",
       "\n",
       "    .dataframe tbody tr th {\n",
       "        vertical-align: top;\n",
       "    }\n",
       "\n",
       "    .dataframe thead th {\n",
       "        text-align: right;\n",
       "    }\n",
       "</style>\n",
       "<table border=\"1\" class=\"dataframe\">\n",
       "  <thead>\n",
       "    <tr style=\"text-align: right;\">\n",
       "      <th></th>\n",
       "      <th>C_NATIONKEY</th>\n",
       "      <th>NUM_NAMES</th>\n",
       "      <th>DISTINCT_NUM_MKTSEGMENT</th>\n",
       "    </tr>\n",
       "  </thead>\n",
       "  <tbody>\n",
       "    <tr>\n",
       "      <th>0</th>\n",
       "      <td>0</td>\n",
       "      <td>5925</td>\n",
       "      <td>5</td>\n",
       "    </tr>\n",
       "    <tr>\n",
       "      <th>1</th>\n",
       "      <td>1</td>\n",
       "      <td>5975</td>\n",
       "      <td>5</td>\n",
       "    </tr>\n",
       "    <tr>\n",
       "      <th>2</th>\n",
       "      <td>2</td>\n",
       "      <td>5999</td>\n",
       "      <td>5</td>\n",
       "    </tr>\n",
       "    <tr>\n",
       "      <th>3</th>\n",
       "      <td>3</td>\n",
       "      <td>6020</td>\n",
       "      <td>5</td>\n",
       "    </tr>\n",
       "    <tr>\n",
       "      <th>4</th>\n",
       "      <td>4</td>\n",
       "      <td>5995</td>\n",
       "      <td>5</td>\n",
       "    </tr>\n",
       "  </tbody>\n",
       "</table>\n",
       "</div>"
      ],
      "text/plain": [
       "   C_NATIONKEY  NUM_NAMES  DISTINCT_NUM_MKTSEGMENT\n",
       "0            0       5925                        5\n",
       "1            1       5975                        5\n",
       "2            2       5999                        5\n",
       "3            3       6020                        5\n",
       "4            4       5995                        5"
      ]
     },
     "execution_count": 19,
     "metadata": {},
     "output_type": "execute_result"
    }
   ],
   "source": [
    "grouped_customer_df.to_pandas().head(5)"
   ]
  },
  {
   "cell_type": "code",
   "execution_count": 20,
   "id": "416d1919",
   "metadata": {},
   "outputs": [
    {
     "data": {
      "text/plain": [
       "<seaborn.axisgrid.FacetGrid at 0xffff29ff0ee0>"
      ]
     },
     "execution_count": 20,
     "metadata": {},
     "output_type": "execute_result"
    },
    {
     "data": {
      "image/png": "[encoded data removed]",
      "text/plain": [
       "<Figure size 500x500 with 1 Axes>"
      ]
     },
     "metadata": {},
     "output_type": "display_data"
    }
   ],
   "source": [
    "grouped_customer_pd = grouped_customer_df.to_pandas()\n",
    "sns.set()\n",
    "sns.displot(data=grouped_customer_pd, x='NUM_NAMES', kde=True)"
   ]
  },
  {
   "cell_type": "markdown",
   "id": "536a1f55",
   "metadata": {},
   "source": [
    "## join"
   ]
  },
  {
   "cell_type": "code",
   "execution_count": 21,
   "id": "bfde704a",
   "metadata": {},
   "outputs": [],
   "source": [
    "customer_df = snowflake.fetch_dataframe('SNOWFLAKE_SAMPLE_DATA.TPCH_SF1.CUSTOMER')\n",
    "order_df = snowflake.fetch_dataframe('SNOWFLAKE_SAMPLE_DATA.TPCH_SF1.ORDERS')"
   ]
  },
  {
   "cell_type": "code",
   "execution_count": 22,
   "id": "012550df",
   "metadata": {},
   "outputs": [],
   "source": [
    "joined_order_df = order_df.join(\n",
    "    customer_df,\n",
    "    using_columns=(order_df.col('O_CUSTKEY') == customer_df.col('C_CUSTKEY')),\n",
    "    join_type='right'\n",
    ").select(\n",
    "    customer_df.col('C_CUSTKEY').alias('CUSTOMER_ID'),\n",
    "    customer_df.col('C_NAME').alias('CUSTOMER_NAME'),\n",
    "    order_df.col('O_ORDERKEY').alias('ORDER_ID'),\n",
    "    order_df.col('O_ORDERSTATUS').alias('STATUS'),\n",
    "    order_df.col('O_TOTALPRICE').alias('TOTAL_PRICE')\n",
    ")"
   ]
  },
  {
   "cell_type": "code",
   "execution_count": 23,
   "id": "bd51ea0f",
   "metadata": {},
   "outputs": [
    {
     "name": "stdout",
     "output_type": "stream",
     "text": [
      "---------DATAFRAME EXECUTION PLAN----------\n",
      "Query List:\n",
      "1.\n",
      "SELECT \"C_CUSTKEY\" AS \"CUSTOMER_ID\", \"C_NAME\" AS \"CUSTOMER_NAME\", \"O_ORDERKEY\" AS \"ORDER_ID\", \"O_ORDERSTATUS\" AS \"STATUS\", \"O_TOTALPRICE\" AS \"TOTAL_PRICE\" FROM ( SELECT  *  FROM (( SELECT \"O_ORDERKEY\" AS \"O_ORDERKEY\", \"O_CUSTKEY\" AS \"O_CUSTKEY\", \"O_ORDERSTATUS\" AS \"O_ORDERSTATUS\", \"O_TOTALPRICE\" AS \"O_TOTALPRICE\", \"O_ORDERDATE\" AS \"O_ORDERDATE\", \"O_ORDERPRIORITY\" AS \"O_ORDERPRIORITY\", \"O_CLERK\" AS \"O_CLERK\", \"O_SHIPPRIORITY\" AS \"O_SHIPPRIORITY\", \"O_COMMENT\" AS \"O_COMMENT\" FROM ( SELECT  *  FROM (SNOWFLAKE_SAMPLE_DATA.TPCH_SF1.ORDERS))) AS SNOWPARK_TEMP_TABLE_FQ2NQZTSOH RIGHT OUTER JOIN ( SELECT \"C_CUSTKEY\" AS \"C_CUSTKEY\", \"C_NAME\" AS \"C_NAME\", \"C_ADDRESS\" AS \"C_ADDRESS\", \"C_NATIONKEY\" AS \"C_NATIONKEY\", \"C_PHONE\" AS \"C_PHONE\", \"C_ACCTBAL\" AS \"C_ACCTBAL\", \"C_MKTSEGMENT\" AS \"C_MKTSEGMENT\", \"C_COMMENT\" AS \"C_COMMENT\" FROM ( SELECT  *  FROM (SNOWFLAKE_SAMPLE_DATA.TPCH_SF1.CUSTOMER))) AS SNOWPARK_TEMP_TABLE_9LPYGDRXEN ON (\"O_CUSTKEY\" = \"C_CUSTKEY\")))\n",
      "Logical Execution Plan:\n",
      "GlobalStats:\n",
      "    partitionsTotal=13\n",
      "    partitionsAssigned=13\n",
      "    bytesAssigned=53051392\n",
      "Operations:\n",
      "1:0     ->Result  CUSTOMER.C_CUSTKEY, CUSTOMER.C_NAME, ORDERS.O_ORDERKEY, ORDERS.O_ORDERSTATUS, ORDERS.O_TOTALPRICE  \n",
      "1:1          ->LeftOuterJoin  joinKey: (CUSTOMER.C_CUSTKEY = ORDERS.O_CUSTKEY)  \n",
      "1:2               ->TableScan  SNOWFLAKE_SAMPLE_DATA.TPCH_SF1.CUSTOMER  C_CUSTKEY, C_NAME  {partitionsTotal=3, partitionsAssigned=3, bytesAssigned=10747904}\n",
      "1:3               ->Filter  ORDERS.O_CUSTKEY IS NOT NULL  \n",
      "1:4                    ->JoinFilter  joinKey: (CUSTOMER.C_CUSTKEY = ORDERS.O_CUSTKEY)  \n",
      "1:5                         ->TableScan  SNOWFLAKE_SAMPLE_DATA.TPCH_SF1.ORDERS  O_ORDERKEY, O_CUSTKEY, O_ORDERSTATUS, O_TOTALPRICE  {partitionsTotal=10, partitionsAssigned=10, bytesAssigned=42303488}\n",
      "\n",
      "--------------------------------------------\n"
     ]
    }
   ],
   "source": [
    "joined_order_df.explain()"
   ]
  },
  {
   "cell_type": "code",
   "execution_count": 24,
   "id": "504194a3",
   "metadata": {},
   "outputs": [
    {
     "data": {
      "text/html": [
       "<div>\n",
       "<style scoped>\n",
       "    .dataframe tbody tr th:only-of-type {\n",
       "        vertical-align: middle;\n",
       "    }\n",
       "\n",
       "    .dataframe tbody tr th {\n",
       "        vertical-align: top;\n",
       "    }\n",
       "\n",
       "    .dataframe thead th {\n",
       "        text-align: right;\n",
       "    }\n",
       "</style>\n",
       "<table border=\"1\" class=\"dataframe\">\n",
       "  <thead>\n",
       "    <tr style=\"text-align: right;\">\n",
       "      <th></th>\n",
       "      <th>CUSTOMER_ID</th>\n",
       "      <th>CUSTOMER_NAME</th>\n",
       "      <th>ORDER_ID</th>\n",
       "      <th>STATUS</th>\n",
       "      <th>TOTAL_PRICE</th>\n",
       "    </tr>\n",
       "  </thead>\n",
       "  <tbody>\n",
       "    <tr>\n",
       "      <th>0</th>\n",
       "      <td>130357</td>\n",
       "      <td>Customer#000130357</td>\n",
       "      <td>2400032.0</td>\n",
       "      <td>F</td>\n",
       "      <td>49629.16</td>\n",
       "    </tr>\n",
       "    <tr>\n",
       "      <th>1</th>\n",
       "      <td>114808</td>\n",
       "      <td>Customer#000114808</td>\n",
       "      <td>2400068.0</td>\n",
       "      <td>O</td>\n",
       "      <td>309237.89</td>\n",
       "    </tr>\n",
       "    <tr>\n",
       "      <th>2</th>\n",
       "      <td>103156</td>\n",
       "      <td>Customer#000103156</td>\n",
       "      <td>2400069.0</td>\n",
       "      <td>F</td>\n",
       "      <td>294964.49</td>\n",
       "    </tr>\n",
       "    <tr>\n",
       "      <th>3</th>\n",
       "      <td>102937</td>\n",
       "      <td>Customer#000102937</td>\n",
       "      <td>2400096.0</td>\n",
       "      <td>O</td>\n",
       "      <td>124112.91</td>\n",
       "    </tr>\n",
       "    <tr>\n",
       "      <th>4</th>\n",
       "      <td>5780</td>\n",
       "      <td>Customer#000005780</td>\n",
       "      <td>2400167.0</td>\n",
       "      <td>O</td>\n",
       "      <td>246335.86</td>\n",
       "    </tr>\n",
       "  </tbody>\n",
       "</table>\n",
       "</div>"
      ],
      "text/plain": [
       "   CUSTOMER_ID       CUSTOMER_NAME   ORDER_ID STATUS  TOTAL_PRICE\n",
       "0       130357  Customer#000130357  2400032.0      F     49629.16\n",
       "1       114808  Customer#000114808  2400068.0      O    309237.89\n",
       "2       103156  Customer#000103156  2400069.0      F    294964.49\n",
       "3       102937  Customer#000102937  2400096.0      O    124112.91\n",
       "4         5780  Customer#000005780  2400167.0      O    246335.86"
      ]
     },
     "execution_count": 24,
     "metadata": {},
     "output_type": "execute_result"
    }
   ],
   "source": [
    "joined_order_df.to_pandas().head(5)"
   ]
  },
  {
   "cell_type": "code",
   "execution_count": 25,
   "id": "a27ae00b",
   "metadata": {},
   "outputs": [
    {
     "data": {
      "text/html": [
       "<div>\n",
       "<style scoped>\n",
       "    .dataframe tbody tr th:only-of-type {\n",
       "        vertical-align: middle;\n",
       "    }\n",
       "\n",
       "    .dataframe tbody tr th {\n",
       "        vertical-align: top;\n",
       "    }\n",
       "\n",
       "    .dataframe thead th {\n",
       "        text-align: right;\n",
       "    }\n",
       "</style>\n",
       "<table border=\"1\" class=\"dataframe\">\n",
       "  <thead>\n",
       "    <tr style=\"text-align: right;\">\n",
       "      <th></th>\n",
       "      <th>CUSTOMER_ID</th>\n",
       "      <th>CUSTOMER_NAME</th>\n",
       "      <th>ORDER_ID</th>\n",
       "      <th>STATUS</th>\n",
       "      <th>TOTAL_PRICE</th>\n",
       "    </tr>\n",
       "  </thead>\n",
       "  <tbody>\n",
       "    <tr>\n",
       "      <th>0</th>\n",
       "      <td>15880</td>\n",
       "      <td>Customer#000015880</td>\n",
       "      <td>600032.0</td>\n",
       "      <td>O</td>\n",
       "      <td>28464.80</td>\n",
       "    </tr>\n",
       "    <tr>\n",
       "      <th>1</th>\n",
       "      <td>27106</td>\n",
       "      <td>Customer#000027106</td>\n",
       "      <td>600035.0</td>\n",
       "      <td>O</td>\n",
       "      <td>18579.92</td>\n",
       "    </tr>\n",
       "    <tr>\n",
       "      <th>2</th>\n",
       "      <td>107722</td>\n",
       "      <td>Customer#000107722</td>\n",
       "      <td>600037.0</td>\n",
       "      <td>F</td>\n",
       "      <td>43179.09</td>\n",
       "    </tr>\n",
       "    <tr>\n",
       "      <th>3</th>\n",
       "      <td>123593</td>\n",
       "      <td>Customer#000123593</td>\n",
       "      <td>600070.0</td>\n",
       "      <td>F</td>\n",
       "      <td>65124.59</td>\n",
       "    </tr>\n",
       "    <tr>\n",
       "      <th>4</th>\n",
       "      <td>23305</td>\n",
       "      <td>Customer#000023305</td>\n",
       "      <td>600071.0</td>\n",
       "      <td>F</td>\n",
       "      <td>174479.48</td>\n",
       "    </tr>\n",
       "  </tbody>\n",
       "</table>\n",
       "</div>"
      ],
      "text/plain": [
       "   CUSTOMER_ID       CUSTOMER_NAME  ORDER_ID STATUS  TOTAL_PRICE\n",
       "0        15880  Customer#000015880  600032.0      O     28464.80\n",
       "1        27106  Customer#000027106  600035.0      O     18579.92\n",
       "2       107722  Customer#000107722  600037.0      F     43179.09\n",
       "3       123593  Customer#000123593  600070.0      F     65124.59\n",
       "4        23305  Customer#000023305  600071.0      F    174479.48"
      ]
     },
     "execution_count": 25,
     "metadata": {},
     "output_type": "execute_result"
    }
   ],
   "source": [
    "## left joinの例\n",
    "customer_df.join(\n",
    "    order_df,\n",
    "    using_columns=(order_df.col('O_CUSTKEY') == customer_df.col('C_CUSTKEY')),\n",
    "    join_type='left'\n",
    ").select(\n",
    "    customer_df.col('C_CUSTKEY').alias('CUSTOMER_ID'),\n",
    "    customer_df.col('C_NAME').alias('CUSTOMER_NAME'),\n",
    "    order_df.col('O_ORDERKEY').alias('ORDER_ID'),\n",
    "    order_df.col('O_ORDERSTATUS').alias('STATUS'),\n",
    "    order_df.col('O_TOTALPRICE').alias('TOTAL_PRICE')\n",
    ").to_pandas().head(5)"
   ]
  },
  {
   "cell_type": "code",
   "execution_count": 26,
   "id": "7e3ac52d",
   "metadata": {},
   "outputs": [],
   "source": [
    "partsupp_df = snowflake.fetch_dataframe('SNOWFLAKE_SAMPLE_DATA.TPCH_SF1.PARTSUPP')\n",
    "lineitem_df = snowflake.fetch_dataframe('SNOWFLAKE_SAMPLE_DATA.TPCH_SF1.LINEITEM')"
   ]
  },
  {
   "cell_type": "code",
   "execution_count": 27,
   "id": "d1e34f73",
   "metadata": {},
   "outputs": [
    {
     "data": {
      "text/html": [
       "<div>\n",
       "<style scoped>\n",
       "    .dataframe tbody tr th:only-of-type {\n",
       "        vertical-align: middle;\n",
       "    }\n",
       "\n",
       "    .dataframe tbody tr th {\n",
       "        vertical-align: top;\n",
       "    }\n",
       "\n",
       "    .dataframe thead th {\n",
       "        text-align: right;\n",
       "    }\n",
       "</style>\n",
       "<table border=\"1\" class=\"dataframe\">\n",
       "  <thead>\n",
       "    <tr style=\"text-align: right;\">\n",
       "      <th></th>\n",
       "      <th>PS_PARTKEY</th>\n",
       "      <th>PS_SUPPKEY</th>\n",
       "      <th>L_EXTENDEDPRICE</th>\n",
       "    </tr>\n",
       "  </thead>\n",
       "  <tbody>\n",
       "    <tr>\n",
       "      <th>0</th>\n",
       "      <td>182905</td>\n",
       "      <td>5424</td>\n",
       "      <td>15903.20</td>\n",
       "    </tr>\n",
       "    <tr>\n",
       "      <th>1</th>\n",
       "      <td>22671</td>\n",
       "      <td>5174</td>\n",
       "      <td>12749.36</td>\n",
       "    </tr>\n",
       "    <tr>\n",
       "      <th>2</th>\n",
       "      <td>62263</td>\n",
       "      <td>2264</td>\n",
       "      <td>39208.32</td>\n",
       "    </tr>\n",
       "    <tr>\n",
       "      <th>3</th>\n",
       "      <td>184497</td>\n",
       "      <td>4498</td>\n",
       "      <td>41118.74</td>\n",
       "    </tr>\n",
       "    <tr>\n",
       "      <th>4</th>\n",
       "      <td>44922</td>\n",
       "      <td>9931</td>\n",
       "      <td>14935.36</td>\n",
       "    </tr>\n",
       "  </tbody>\n",
       "</table>\n",
       "</div>"
      ],
      "text/plain": [
       "   PS_PARTKEY  PS_SUPPKEY  L_EXTENDEDPRICE\n",
       "0      182905        5424         15903.20\n",
       "1       22671        5174         12749.36\n",
       "2       62263        2264         39208.32\n",
       "3      184497        4498         41118.74\n",
       "4       44922        9931         14935.36"
      ]
     },
     "execution_count": 27,
     "metadata": {},
     "output_type": "execute_result"
    }
   ],
   "source": [
    "# 複数カラムでのjoinの例\n",
    "partsupp_df.join(\n",
    "    lineitem_df,\n",
    "    using_columns=(\n",
    "        (partsupp_df.col('PS_PARTKEY') == lineitem_df.col('L_PARTKEY'))\n",
    "        & (partsupp_df.col('PS_SUPPKEY') == lineitem_df.col('L_SUPPKEY'))\n",
    "    ),\n",
    "    join_type='left'\n",
    ").select(\n",
    "    partsupp_df.col('PS_PARTKEY'),\n",
    "    partsupp_df.col('PS_SUPPKEY'),\n",
    "    lineitem_df.col('L_EXTENDEDPRICE')\n",
    ").to_pandas().head(5)"
   ]
  }
 ],
 "metadata": {
  "kernelspec": {
   "display_name": "Python 3 (ipykernel)",
   "language": "python",
   "name": "python3"
  },
  "language_info": {
   "codemirror_mode": {
    "name": "ipython",
    "version": 3
   },
   "file_extension": ".py",
   "mimetype": "text/x-python",
   "name": "python",
   "nbconvert_exporter": "python",
   "pygments_lexer": "ipython3",
   "version": "3.8.13"
  }
 },
 "nbformat": 4,
 "nbformat_minor": 5
}
