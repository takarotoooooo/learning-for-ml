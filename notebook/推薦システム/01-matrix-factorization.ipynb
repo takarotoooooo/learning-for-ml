{
 "cells": [
  {
   "cell_type": "markdown",
   "id": "9c080995",
   "metadata": {},
   "source": [
    "MovieLensを利用してサンプルを作成する  \n",
    "MovieLensのダウンロード"
   ]
  },
  {
   "cell_type": "code",
   "execution_count": 1,
   "id": "a7aced2d",
   "metadata": {},
   "outputs": [],
   "source": [
    "from pathlib import Path\n",
    "import pandas as pd\n",
    "import numpy as np\n",
    "import sys\n",
    "import os\n",
    "sys.path.append(os.path.dirname(Path().resolve()))\n",
    "from datasets.movie_lens import MovieLensDataset"
   ]
  },
  {
   "cell_type": "code",
   "execution_count": 2,
   "id": "c1e9959e",
   "metadata": {},
   "outputs": [],
   "source": [
    "movielens_datasets = MovieLensDataset()"
   ]
  },
  {
   "cell_type": "code",
   "execution_count": 3,
   "id": "24ba046f",
   "metadata": {},
   "outputs": [
    {
     "data": {
      "text/html": [
       "<div>\n",
       "<style scoped>\n",
       "    .dataframe tbody tr th:only-of-type {\n",
       "        vertical-align: middle;\n",
       "    }\n",
       "\n",
       "    .dataframe tbody tr th {\n",
       "        vertical-align: top;\n",
       "    }\n",
       "\n",
       "    .dataframe thead th {\n",
       "        text-align: right;\n",
       "    }\n",
       "</style>\n",
       "<table border=\"1\" class=\"dataframe\">\n",
       "  <thead>\n",
       "    <tr style=\"text-align: right;\">\n",
       "      <th></th>\n",
       "      <th>userId</th>\n",
       "      <th>movieId</th>\n",
       "      <th>rating</th>\n",
       "      <th>timestamp</th>\n",
       "      <th>userIdx</th>\n",
       "      <th>movieIdx</th>\n",
       "    </tr>\n",
       "  </thead>\n",
       "  <tbody>\n",
       "    <tr>\n",
       "      <th>0</th>\n",
       "      <td>1</td>\n",
       "      <td>307</td>\n",
       "      <td>3.5</td>\n",
       "      <td>1256677221</td>\n",
       "      <td>0</td>\n",
       "      <td>304</td>\n",
       "    </tr>\n",
       "    <tr>\n",
       "      <th>1</th>\n",
       "      <td>6</td>\n",
       "      <td>307</td>\n",
       "      <td>4.0</td>\n",
       "      <td>832059248</td>\n",
       "      <td>5</td>\n",
       "      <td>304</td>\n",
       "    </tr>\n",
       "    <tr>\n",
       "      <th>2</th>\n",
       "      <td>56</td>\n",
       "      <td>307</td>\n",
       "      <td>4.0</td>\n",
       "      <td>1383625728</td>\n",
       "      <td>55</td>\n",
       "      <td>304</td>\n",
       "    </tr>\n",
       "    <tr>\n",
       "      <th>3</th>\n",
       "      <td>71</td>\n",
       "      <td>307</td>\n",
       "      <td>5.0</td>\n",
       "      <td>1257795414</td>\n",
       "      <td>70</td>\n",
       "      <td>304</td>\n",
       "    </tr>\n",
       "    <tr>\n",
       "      <th>4</th>\n",
       "      <td>84</td>\n",
       "      <td>307</td>\n",
       "      <td>3.0</td>\n",
       "      <td>999055519</td>\n",
       "      <td>83</td>\n",
       "      <td>304</td>\n",
       "    </tr>\n",
       "  </tbody>\n",
       "</table>\n",
       "</div>"
      ],
      "text/plain": [
       "   userId  movieId  rating   timestamp  userIdx  movieIdx\n",
       "0       1      307     3.5  1256677221        0       304\n",
       "1       6      307     4.0   832059248        5       304\n",
       "2      56      307     4.0  1383625728       55       304\n",
       "3      71      307     5.0  1257795414       70       304\n",
       "4      84      307     3.0   999055519       83       304"
      ]
     },
     "execution_count": 3,
     "metadata": {},
     "output_type": "execute_result"
    }
   ],
   "source": [
    "movielens_datasets.ratings.head()"
   ]
  },
  {
   "cell_type": "markdown",
   "id": "44e106a9",
   "metadata": {},
   "source": [
    "# TensorFlowを使う"
   ]
  },
  {
   "cell_type": "code",
   "execution_count": 4,
   "id": "6aa82241",
   "metadata": {
    "scrolled": true
   },
   "outputs": [
    {
     "name": "stdout",
     "output_type": "stream",
     "text": [
      "Requirement already satisfied: tensorflow in /usr/local/lib/python3.8/site-packages (2.11.0)\n",
      "Requirement already satisfied: tensorflow-cpu-aws==2.11.0 in /usr/local/lib/python3.8/site-packages (from tensorflow) (2.11.0)\n",
      "Requirement already satisfied: six>=1.12.0 in /usr/local/lib/python3.8/site-packages (from tensorflow-cpu-aws==2.11.0->tensorflow) (1.16.0)\n",
      "Requirement already satisfied: termcolor>=1.1.0 in /usr/local/lib/python3.8/site-packages (from tensorflow-cpu-aws==2.11.0->tensorflow) (2.1.1)\n",
      "Requirement already satisfied: packaging in /usr/local/lib/python3.8/site-packages (from tensorflow-cpu-aws==2.11.0->tensorflow) (21.3)\n",
      "Requirement already satisfied: protobuf<3.20,>=3.9.2 in /usr/local/lib/python3.8/site-packages (from tensorflow-cpu-aws==2.11.0->tensorflow) (3.19.6)\n",
      "Requirement already satisfied: google-pasta>=0.1.1 in /usr/local/lib/python3.8/site-packages (from tensorflow-cpu-aws==2.11.0->tensorflow) (0.2.0)\n",
      "Requirement already satisfied: wrapt>=1.11.0 in /usr/local/lib/python3.8/site-packages (from tensorflow-cpu-aws==2.11.0->tensorflow) (1.14.1)\n",
      "Requirement already satisfied: grpcio<2.0,>=1.24.3 in /usr/local/lib/python3.8/site-packages (from tensorflow-cpu-aws==2.11.0->tensorflow) (1.51.1)\n",
      "Requirement already satisfied: flatbuffers>=2.0 in /usr/local/lib/python3.8/site-packages (from tensorflow-cpu-aws==2.11.0->tensorflow) (22.12.6)\n",
      "Requirement already satisfied: numpy>=1.20 in /usr/local/lib/python3.8/site-packages (from tensorflow-cpu-aws==2.11.0->tensorflow) (1.23.3)\n",
      "Requirement already satisfied: astunparse>=1.6.0 in /usr/local/lib/python3.8/site-packages (from tensorflow-cpu-aws==2.11.0->tensorflow) (1.6.3)\n",
      "Requirement already satisfied: setuptools in /usr/local/lib/python3.8/site-packages (from tensorflow-cpu-aws==2.11.0->tensorflow) (57.5.0)\n",
      "Requirement already satisfied: tensorflow-estimator<2.12,>=2.11.0 in /usr/local/lib/python3.8/site-packages (from tensorflow-cpu-aws==2.11.0->tensorflow) (2.11.0)\n",
      "Requirement already satisfied: opt-einsum>=2.3.2 in /usr/local/lib/python3.8/site-packages (from tensorflow-cpu-aws==2.11.0->tensorflow) (3.3.0)\n",
      "Requirement already satisfied: tensorboard<2.12,>=2.11 in /usr/local/lib/python3.8/site-packages (from tensorflow-cpu-aws==2.11.0->tensorflow) (2.11.0)\n",
      "Requirement already satisfied: absl-py>=1.0.0 in /usr/local/lib/python3.8/site-packages (from tensorflow-cpu-aws==2.11.0->tensorflow) (1.3.0)\n",
      "Requirement already satisfied: gast<=0.4.0,>=0.2.1 in /usr/local/lib/python3.8/site-packages (from tensorflow-cpu-aws==2.11.0->tensorflow) (0.4.0)\n",
      "Requirement already satisfied: tensorflow-io-gcs-filesystem>=0.23.1 in /usr/local/lib/python3.8/site-packages (from tensorflow-cpu-aws==2.11.0->tensorflow) (0.29.0)\n",
      "Requirement already satisfied: typing-extensions>=3.6.6 in /usr/local/lib/python3.8/site-packages (from tensorflow-cpu-aws==2.11.0->tensorflow) (4.3.0)\n",
      "Requirement already satisfied: libclang>=13.0.0 in /usr/local/lib/python3.8/site-packages (from tensorflow-cpu-aws==2.11.0->tensorflow) (14.0.6)\n",
      "Requirement already satisfied: keras<2.12,>=2.11.0 in /usr/local/lib/python3.8/site-packages (from tensorflow-cpu-aws==2.11.0->tensorflow) (2.11.0)\n",
      "Requirement already satisfied: h5py>=2.9.0 in /usr/local/lib/python3.8/site-packages (from tensorflow-cpu-aws==2.11.0->tensorflow) (3.7.0)\n",
      "Requirement already satisfied: wheel<1.0,>=0.23.0 in /usr/local/lib/python3.8/site-packages (from astunparse>=1.6.0->tensorflow-cpu-aws==2.11.0->tensorflow) (0.37.1)\n",
      "Requirement already satisfied: google-auth<3,>=1.6.3 in /usr/local/lib/python3.8/site-packages (from tensorboard<2.12,>=2.11->tensorflow-cpu-aws==2.11.0->tensorflow) (2.15.0)\n",
      "Requirement already satisfied: tensorboard-data-server<0.7.0,>=0.6.0 in /usr/local/lib/python3.8/site-packages (from tensorboard<2.12,>=2.11->tensorflow-cpu-aws==2.11.0->tensorflow) (0.6.1)\n",
      "Requirement already satisfied: tensorboard-plugin-wit>=1.6.0 in /usr/local/lib/python3.8/site-packages (from tensorboard<2.12,>=2.11->tensorflow-cpu-aws==2.11.0->tensorflow) (1.8.1)\n",
      "Requirement already satisfied: google-auth-oauthlib<0.5,>=0.4.1 in /usr/local/lib/python3.8/site-packages (from tensorboard<2.12,>=2.11->tensorflow-cpu-aws==2.11.0->tensorflow) (0.4.6)\n",
      "Requirement already satisfied: werkzeug>=1.0.1 in /usr/local/lib/python3.8/site-packages (from tensorboard<2.12,>=2.11->tensorflow-cpu-aws==2.11.0->tensorflow) (2.2.2)\n",
      "Requirement already satisfied: requests<3,>=2.21.0 in /usr/local/lib/python3.8/site-packages (from tensorboard<2.12,>=2.11->tensorflow-cpu-aws==2.11.0->tensorflow) (2.28.1)\n",
      "Requirement already satisfied: markdown>=2.6.8 in /usr/local/lib/python3.8/site-packages (from tensorboard<2.12,>=2.11->tensorflow-cpu-aws==2.11.0->tensorflow) (3.4.1)\n",
      "Requirement already satisfied: pyparsing!=3.0.5,>=2.0.2 in /usr/local/lib/python3.8/site-packages (from packaging->tensorflow-cpu-aws==2.11.0->tensorflow) (3.0.9)\n",
      "Requirement already satisfied: cachetools<6.0,>=2.0.0 in /usr/local/lib/python3.8/site-packages (from google-auth<3,>=1.6.3->tensorboard<2.12,>=2.11->tensorflow-cpu-aws==2.11.0->tensorflow) (5.2.0)\n",
      "Requirement already satisfied: rsa<5,>=3.1.4 in /usr/local/lib/python3.8/site-packages (from google-auth<3,>=1.6.3->tensorboard<2.12,>=2.11->tensorflow-cpu-aws==2.11.0->tensorflow) (4.9)\n",
      "Requirement already satisfied: pyasn1-modules>=0.2.1 in /usr/local/lib/python3.8/site-packages (from google-auth<3,>=1.6.3->tensorboard<2.12,>=2.11->tensorflow-cpu-aws==2.11.0->tensorflow) (0.2.8)\n",
      "Requirement already satisfied: requests-oauthlib>=0.7.0 in /usr/local/lib/python3.8/site-packages (from google-auth-oauthlib<0.5,>=0.4.1->tensorboard<2.12,>=2.11->tensorflow-cpu-aws==2.11.0->tensorflow) (1.3.1)\n",
      "Requirement already satisfied: importlib-metadata>=4.4 in /usr/local/lib/python3.8/site-packages (from markdown>=2.6.8->tensorboard<2.12,>=2.11->tensorflow-cpu-aws==2.11.0->tensorflow) (4.12.0)\n",
      "Requirement already satisfied: certifi>=2017.4.17 in /usr/local/lib/python3.8/site-packages (from requests<3,>=2.21.0->tensorboard<2.12,>=2.11->tensorflow-cpu-aws==2.11.0->tensorflow) (2022.9.14)\n",
      "Requirement already satisfied: urllib3<1.27,>=1.21.1 in /usr/local/lib/python3.8/site-packages (from requests<3,>=2.21.0->tensorboard<2.12,>=2.11->tensorflow-cpu-aws==2.11.0->tensorflow) (1.26.12)\n",
      "Requirement already satisfied: charset-normalizer<3,>=2 in /usr/local/lib/python3.8/site-packages (from requests<3,>=2.21.0->tensorboard<2.12,>=2.11->tensorflow-cpu-aws==2.11.0->tensorflow) (2.1.1)\n",
      "Requirement already satisfied: idna<4,>=2.5 in /usr/local/lib/python3.8/site-packages (from requests<3,>=2.21.0->tensorboard<2.12,>=2.11->tensorflow-cpu-aws==2.11.0->tensorflow) (3.4)\n",
      "Requirement already satisfied: MarkupSafe>=2.1.1 in /usr/local/lib/python3.8/site-packages (from werkzeug>=1.0.1->tensorboard<2.12,>=2.11->tensorflow-cpu-aws==2.11.0->tensorflow) (2.1.1)\n",
      "Requirement already satisfied: zipp>=0.5 in /usr/local/lib/python3.8/site-packages (from importlib-metadata>=4.4->markdown>=2.6.8->tensorboard<2.12,>=2.11->tensorflow-cpu-aws==2.11.0->tensorflow) (3.8.1)\n",
      "Requirement already satisfied: pyasn1<0.5.0,>=0.4.6 in /usr/local/lib/python3.8/site-packages (from pyasn1-modules>=0.2.1->google-auth<3,>=1.6.3->tensorboard<2.12,>=2.11->tensorflow-cpu-aws==2.11.0->tensorflow) (0.4.8)\n",
      "Requirement already satisfied: oauthlib>=3.0.0 in /usr/local/lib/python3.8/site-packages (from requests-oauthlib>=0.7.0->google-auth-oauthlib<0.5,>=0.4.1->tensorboard<2.12,>=2.11->tensorflow-cpu-aws==2.11.0->tensorflow) (3.2.2)\n",
      "\u001b[33mWARNING: Running pip as the 'root' user can result in broken permissions and conflicting behaviour with the system package manager. It is recommended to use a virtual environment instead: https://pip.pypa.io/warnings/venv\u001b[0m\u001b[33m\n",
      "\u001b[0m\n",
      "\u001b[1m[\u001b[0m\u001b[34;49mnotice\u001b[0m\u001b[1;39;49m]\u001b[0m\u001b[39;49m A new release of pip available: \u001b[0m\u001b[31;49m22.2.2\u001b[0m\u001b[39;49m -> \u001b[0m\u001b[32;49m22.3.1\u001b[0m\n",
      "\u001b[1m[\u001b[0m\u001b[34;49mnotice\u001b[0m\u001b[1;39;49m]\u001b[0m\u001b[39;49m To update, run: \u001b[0m\u001b[32;49mpip install --upgrade pip\u001b[0m\n"
     ]
    }
   ],
   "source": [
    "!pip install tensorflow"
   ]
  },
  {
   "cell_type": "code",
   "execution_count": 5,
   "id": "94705e3a",
   "metadata": {
    "scrolled": true
   },
   "outputs": [
    {
     "name": "stderr",
     "output_type": "stream",
     "text": [
      "/usr/local/lib/python3.8/site-packages/tensorflow_io/python/ops/__init__.py:98: UserWarning: unable to load libtensorflow_io_plugins.so: unable to open file: libtensorflow_io_plugins.so, from paths: ['/usr/local/lib/python3.8/site-packages/tensorflow_io/python/ops/libtensorflow_io_plugins.so']\n",
      "caused by: [\"[Errno 2] The file to load file system plugin from does not exist.: '/usr/local/lib/python3.8/site-packages/tensorflow_io/python/ops/libtensorflow_io_plugins.so'\"]\n",
      "  warnings.warn(f\"unable to load libtensorflow_io_plugins.so: {e}\")\n",
      "/usr/local/lib/python3.8/site-packages/tensorflow_io/python/ops/__init__.py:104: UserWarning: file system plugins are not loaded: unable to open file: libtensorflow_io.so, from paths: ['/usr/local/lib/python3.8/site-packages/tensorflow_io/python/ops/libtensorflow_io.so']\n",
      "caused by: ['/usr/local/lib/python3.8/site-packages/tensorflow_io/python/ops/libtensorflow_io.so: cannot open shared object file: No such file or directory']\n",
      "  warnings.warn(f\"file system plugins are not loaded: {e}\")\n"
     ]
    }
   ],
   "source": [
    "import tensorflow as tf\n",
    "from collections import Counter\n",
    "from sklearn.model_selection import train_test_split"
   ]
  },
  {
   "cell_type": "code",
   "execution_count": 6,
   "id": "d5e5b2c1",
   "metadata": {},
   "outputs": [],
   "source": [
    "def create_model(user_num: int, item_num: int, dimension: int = 10) -> tf.keras.models.Model:\n",
    "    user_input_layer = tf.keras.layers.Input(shape=(1, ))\n",
    "    item_input_layer = tf.keras.layers.Input(shape=(1, ))\n",
    "    user_embedding_layer = tf.keras.layers.Embedding(user_num, dimension)(user_input_layer)\n",
    "    item_embedding_layer = tf.keras.layers.Embedding(item_num, dimension)(item_input_layer)\n",
    "    user_bias_layer = tf.keras.layers.Embedding(user_num, 1)(user_input_layer)\n",
    "    item_bias_layer = tf.keras.layers.Embedding(item_num, 1)(item_input_layer)\n",
    "\n",
    "    x = tf.keras.layers.Dot(axes=2)([user_embedding_layer, item_embedding_layer])\n",
    "    x = tf.keras.layers.Add()([x, user_bias_layer, item_bias_layer])\n",
    "    x = tf.keras.layers.Flatten()(x)\n",
    "\n",
    "    model = tf.keras.models.Model(inputs=[user_input_layer, item_input_layer], outputs=x)\n",
    "    opt = tf.keras.optimizers.SGD(learning_rate=0.1, momentum=0.9)\n",
    "\n",
    "    model.compile(\n",
    "        loss=tf.keras.losses.MeanSquaredError(),\n",
    "        optimizer=opt,\n",
    "        metrics=[tf.keras.metrics.RootMeanSquaredError()],\n",
    "    )\n",
    "\n",
    "    return model"
   ]
  },
  {
   "cell_type": "code",
   "execution_count": 7,
   "id": "2bd70f49",
   "metadata": {},
   "outputs": [
    {
     "name": "stdout",
     "output_type": "stream",
     "text": [
      "(19427410, 6) (8326034, 6)\n"
     ]
    }
   ],
   "source": [
    "# 学習データと検証データの用意\n",
    "train, test = train_test_split(movielens_datasets.ratings, test_size=0.3, shuffle=True, random_state=42)\n",
    "print(train.shape, test.shape)"
   ]
  },
  {
   "cell_type": "code",
   "execution_count": 8,
   "id": "54e63466",
   "metadata": {},
   "outputs": [],
   "source": [
    "# モデルの作成\n",
    "user_num = len(movielens_datasets.users)\n",
    "content_num = len(movielens_datasets.movies)\n",
    "model = create_model(user_num, content_num)"
   ]
  },
  {
   "cell_type": "code",
   "execution_count": 9,
   "id": "cec83ffd",
   "metadata": {
    "scrolled": true
   },
   "outputs": [
    {
     "name": "stdout",
     "output_type": "stream",
     "text": [
      "You must install pydot (`pip install pydot`) and install graphviz (see instructions at https://graphviz.gitlab.io/download/) for plot_model to work.\n",
      "Epoch 1/200\n",
      "18973/18973 [==============================] - 82s 4ms/step - loss: 2.0103 - root_mean_squared_error: 1.4178 - val_loss: 1.2443 - val_root_mean_squared_error: 1.1155\n",
      "Epoch 2/200\n",
      "18973/18973 [==============================] - 83s 4ms/step - loss: 1.1343 - root_mean_squared_error: 1.0650 - val_loss: 1.0667 - val_root_mean_squared_error: 1.0328\n",
      "Epoch 3/200\n",
      "18973/18973 [==============================] - 84s 4ms/step - loss: 1.0175 - root_mean_squared_error: 1.0087 - val_loss: 0.9910 - val_root_mean_squared_error: 0.9955\n",
      "Epoch 4/200\n",
      "18973/18973 [==============================] - 84s 4ms/step - loss: 0.9584 - root_mean_squared_error: 0.9790 - val_loss: 0.9470 - val_root_mean_squared_error: 0.9731\n",
      "Epoch 5/200\n",
      "18973/18973 [==============================] - 86s 5ms/step - loss: 0.9205 - root_mean_squared_error: 0.9594 - val_loss: 0.9159 - val_root_mean_squared_error: 0.9571\n",
      "Epoch 6/200\n",
      "18973/18973 [==============================] - 85s 4ms/step - loss: 0.8905 - root_mean_squared_error: 0.9437 - val_loss: 0.8887 - val_root_mean_squared_error: 0.9427\n",
      "Epoch 7/200\n",
      "18973/18973 [==============================] - 85s 4ms/step - loss: 0.8616 - root_mean_squared_error: 0.9282 - val_loss: 0.8618 - val_root_mean_squared_error: 0.9283\n",
      "Epoch 8/200\n",
      "18973/18973 [==============================] - 85s 4ms/step - loss: 0.8337 - root_mean_squared_error: 0.9131 - val_loss: 0.8378 - val_root_mean_squared_error: 0.9153\n",
      "Epoch 9/200\n",
      "18973/18973 [==============================] - 85s 4ms/step - loss: 0.8078 - root_mean_squared_error: 0.8988 - val_loss: 0.8155 - val_root_mean_squared_error: 0.9030\n",
      "Epoch 10/200\n",
      "18973/18973 [==============================] - 85s 4ms/step - loss: 0.7827 - root_mean_squared_error: 0.8847 - val_loss: 0.7950 - val_root_mean_squared_error: 0.8916\n",
      "Epoch 11/200\n",
      "18973/18973 [==============================] - 84s 4ms/step - loss: 0.7595 - root_mean_squared_error: 0.8715 - val_loss: 0.7771 - val_root_mean_squared_error: 0.8815\n",
      "Epoch 12/200\n",
      "18973/18973 [==============================] - 84s 4ms/step - loss: 0.7382 - root_mean_squared_error: 0.8592 - val_loss: 0.7613 - val_root_mean_squared_error: 0.8725\n",
      "Epoch 13/200\n",
      "18973/18973 [==============================] - 85s 4ms/step - loss: 0.7183 - root_mean_squared_error: 0.8475 - val_loss: 0.7473 - val_root_mean_squared_error: 0.8645\n",
      "Epoch 14/200\n",
      "18973/18973 [==============================] - 86s 5ms/step - loss: 0.7000 - root_mean_squared_error: 0.8367 - val_loss: 0.7351 - val_root_mean_squared_error: 0.8574\n",
      "Epoch 15/200\n",
      "18973/18973 [==============================] - 85s 4ms/step - loss: 0.6834 - root_mean_squared_error: 0.8267 - val_loss: 0.7249 - val_root_mean_squared_error: 0.8514\n",
      "Epoch 16/200\n",
      "18973/18973 [==============================] - 85s 4ms/step - loss: 0.6686 - root_mean_squared_error: 0.8177 - val_loss: 0.7163 - val_root_mean_squared_error: 0.8464\n",
      "Epoch 17/200\n",
      "18973/18973 [==============================] - 86s 5ms/step - loss: 0.6556 - root_mean_squared_error: 0.8097 - val_loss: 0.7092 - val_root_mean_squared_error: 0.8421\n",
      "Epoch 18/200\n",
      "18973/18973 [==============================] - 85s 4ms/step - loss: 0.6441 - root_mean_squared_error: 0.8025 - val_loss: 0.7034 - val_root_mean_squared_error: 0.8387\n",
      "Epoch 19/200\n",
      "18973/18973 [==============================] - 84s 4ms/step - loss: 0.6339 - root_mean_squared_error: 0.7962 - val_loss: 0.6984 - val_root_mean_squared_error: 0.8357\n",
      "Epoch 20/200\n",
      "18973/18973 [==============================] - 84s 4ms/step - loss: 0.6249 - root_mean_squared_error: 0.7905 - val_loss: 0.6942 - val_root_mean_squared_error: 0.8332\n",
      "Epoch 21/200\n",
      "18973/18973 [==============================] - 85s 4ms/step - loss: 0.6170 - root_mean_squared_error: 0.7855 - val_loss: 0.6905 - val_root_mean_squared_error: 0.8310\n",
      "Epoch 22/200\n",
      "18973/18973 [==============================] - 85s 4ms/step - loss: 0.6099 - root_mean_squared_error: 0.7809 - val_loss: 0.6874 - val_root_mean_squared_error: 0.8291\n",
      "Epoch 23/200\n",
      "18973/18973 [==============================] - 85s 4ms/step - loss: 0.6035 - root_mean_squared_error: 0.7768 - val_loss: 0.6845 - val_root_mean_squared_error: 0.8274\n",
      "Epoch 24/200\n",
      "18973/18973 [==============================] - 85s 5ms/step - loss: 0.5977 - root_mean_squared_error: 0.7731 - val_loss: 0.6821 - val_root_mean_squared_error: 0.8259\n",
      "Epoch 25/200\n",
      "18973/18973 [==============================] - 84s 4ms/step - loss: 0.5925 - root_mean_squared_error: 0.7697 - val_loss: 0.6800 - val_root_mean_squared_error: 0.8246\n",
      "Epoch 26/200\n",
      "18973/18973 [==============================] - 84s 4ms/step - loss: 0.5877 - root_mean_squared_error: 0.7666 - val_loss: 0.6781 - val_root_mean_squared_error: 0.8235\n",
      "Epoch 27/200\n",
      "18973/18973 [==============================] - 84s 4ms/step - loss: 0.5834 - root_mean_squared_error: 0.7638 - val_loss: 0.6764 - val_root_mean_squared_error: 0.8224\n",
      "Epoch 28/200\n",
      "18973/18973 [==============================] - 84s 4ms/step - loss: 0.5794 - root_mean_squared_error: 0.7612 - val_loss: 0.6749 - val_root_mean_squared_error: 0.8215\n",
      "Epoch 29/200\n",
      "18973/18973 [==============================] - 84s 4ms/step - loss: 0.5757 - root_mean_squared_error: 0.7588 - val_loss: 0.6735 - val_root_mean_squared_error: 0.8207\n",
      "Epoch 30/200\n",
      "18973/18973 [==============================] - 85s 4ms/step - loss: 0.5723 - root_mean_squared_error: 0.7565 - val_loss: 0.6724 - val_root_mean_squared_error: 0.8200\n",
      "Epoch 31/200\n",
      "18973/18973 [==============================] - 85s 4ms/step - loss: 0.5691 - root_mean_squared_error: 0.7544 - val_loss: 0.6713 - val_root_mean_squared_error: 0.8193\n",
      "Epoch 32/200\n",
      "18973/18973 [==============================] - 84s 4ms/step - loss: 0.5662 - root_mean_squared_error: 0.7525 - val_loss: 0.6704 - val_root_mean_squared_error: 0.8188\n",
      "Epoch 33/200\n",
      "18973/18973 [==============================] - 84s 4ms/step - loss: 0.5635 - root_mean_squared_error: 0.7506 - val_loss: 0.6694 - val_root_mean_squared_error: 0.8182\n",
      "Epoch 34/200\n",
      "18973/18973 [==============================] - 84s 4ms/step - loss: 0.5609 - root_mean_squared_error: 0.7489 - val_loss: 0.6687 - val_root_mean_squared_error: 0.8178\n",
      "Epoch 35/200\n",
      "18973/18973 [==============================] - 85s 4ms/step - loss: 0.5585 - root_mean_squared_error: 0.7473 - val_loss: 0.6680 - val_root_mean_squared_error: 0.8173\n",
      "Epoch 36/200\n",
      "18973/18973 [==============================] - 84s 4ms/step - loss: 0.5563 - root_mean_squared_error: 0.7458 - val_loss: 0.6674 - val_root_mean_squared_error: 0.8169\n",
      "Epoch 37/200\n",
      "18973/18973 [==============================] - 84s 4ms/step - loss: 0.5542 - root_mean_squared_error: 0.7444 - val_loss: 0.6668 - val_root_mean_squared_error: 0.8166\n",
      "Epoch 38/200\n",
      "18973/18973 [==============================] - 84s 4ms/step - loss: 0.5522 - root_mean_squared_error: 0.7431 - val_loss: 0.6663 - val_root_mean_squared_error: 0.8163\n",
      "Epoch 39/200\n",
      "18973/18973 [==============================] - 84s 4ms/step - loss: 0.5503 - root_mean_squared_error: 0.7418 - val_loss: 0.6659 - val_root_mean_squared_error: 0.8160\n",
      "Epoch 40/200\n",
      "18973/18973 [==============================] - 84s 4ms/step - loss: 0.5485 - root_mean_squared_error: 0.7406 - val_loss: 0.6655 - val_root_mean_squared_error: 0.8158\n",
      "Epoch 41/200\n",
      "18973/18973 [==============================] - 83s 4ms/step - loss: 0.5468 - root_mean_squared_error: 0.7395 - val_loss: 0.6651 - val_root_mean_squared_error: 0.8155\n",
      "Epoch 42/200\n",
      "18973/18973 [==============================] - 85s 4ms/step - loss: 0.5452 - root_mean_squared_error: 0.7384 - val_loss: 0.6648 - val_root_mean_squared_error: 0.8154\n",
      "Epoch 43/200\n",
      "18973/18973 [==============================] - 84s 4ms/step - loss: 0.5437 - root_mean_squared_error: 0.7374 - val_loss: 0.6645 - val_root_mean_squared_error: 0.8152\n",
      "Epoch 44/200\n",
      "18973/18973 [==============================] - 83s 4ms/step - loss: 0.5423 - root_mean_squared_error: 0.7364 - val_loss: 0.6643 - val_root_mean_squared_error: 0.8150\n",
      "Epoch 45/200\n",
      "18973/18973 [==============================] - 84s 4ms/step - loss: 0.5409 - root_mean_squared_error: 0.7355 - val_loss: 0.6640 - val_root_mean_squared_error: 0.8149\n"
     ]
    },
    {
     "name": "stdout",
     "output_type": "stream",
     "text": [
      "Epoch 46/200\n",
      "18973/18973 [==============================] - 84s 4ms/step - loss: 0.5396 - root_mean_squared_error: 0.7346 - val_loss: 0.6639 - val_root_mean_squared_error: 0.8148\n",
      "Epoch 47/200\n",
      "18973/18973 [==============================] - 83s 4ms/step - loss: 0.5383 - root_mean_squared_error: 0.7337 - val_loss: 0.6636 - val_root_mean_squared_error: 0.8146\n",
      "Epoch 48/200\n",
      "18973/18973 [==============================] - 84s 4ms/step - loss: 0.5372 - root_mean_squared_error: 0.7329 - val_loss: 0.6635 - val_root_mean_squared_error: 0.8145\n",
      "Epoch 49/200\n",
      "18973/18973 [==============================] - 84s 4ms/step - loss: 0.5360 - root_mean_squared_error: 0.7321 - val_loss: 0.6634 - val_root_mean_squared_error: 0.8145\n",
      "Epoch 50/200\n",
      "18973/18973 [==============================] - 84s 4ms/step - loss: 0.5349 - root_mean_squared_error: 0.7314 - val_loss: 0.6633 - val_root_mean_squared_error: 0.8144\n",
      "Epoch 51/200\n",
      "18973/18973 [==============================] - 84s 4ms/step - loss: 0.5339 - root_mean_squared_error: 0.7307 - val_loss: 0.6632 - val_root_mean_squared_error: 0.8143\n",
      "Epoch 52/200\n",
      "18973/18973 [==============================] - 84s 4ms/step - loss: 0.5329 - root_mean_squared_error: 0.7300 - val_loss: 0.6631 - val_root_mean_squared_error: 0.8143\n",
      "Epoch 53/200\n",
      "18973/18973 [==============================] - 84s 4ms/step - loss: 0.5319 - root_mean_squared_error: 0.7293 - val_loss: 0.6630 - val_root_mean_squared_error: 0.8142\n",
      "Epoch 54/200\n",
      "18973/18973 [==============================] - 83s 4ms/step - loss: 0.5310 - root_mean_squared_error: 0.7287 - val_loss: 0.6629 - val_root_mean_squared_error: 0.8142\n",
      "Epoch 55/200\n",
      "18973/18973 [==============================] - 83s 4ms/step - loss: 0.5301 - root_mean_squared_error: 0.7281 - val_loss: 0.6630 - val_root_mean_squared_error: 0.8142\n",
      "Epoch 56/200\n",
      "18973/18973 [==============================] - 84s 4ms/step - loss: 0.5292 - root_mean_squared_error: 0.7275 - val_loss: 0.6629 - val_root_mean_squared_error: 0.8142\n",
      "Epoch 57/200\n",
      "18973/18973 [==============================] - 84s 4ms/step - loss: 0.5284 - root_mean_squared_error: 0.7269 - val_loss: 0.6629 - val_root_mean_squared_error: 0.8142\n",
      "Epoch 58/200\n",
      "18973/18973 [==============================] - 84s 4ms/step - loss: 0.5276 - root_mean_squared_error: 0.7264 - val_loss: 0.6629 - val_root_mean_squared_error: 0.8142\n",
      "Epoch 59/200\n",
      "18973/18973 [==============================] - 83s 4ms/step - loss: 0.5268 - root_mean_squared_error: 0.7258 - val_loss: 0.6630 - val_root_mean_squared_error: 0.8142\n",
      "Epoch 60/200\n",
      "18973/18973 [==============================] - 84s 4ms/step - loss: 0.5261 - root_mean_squared_error: 0.7253 - val_loss: 0.6629 - val_root_mean_squared_error: 0.8142\n",
      "Epoch 61/200\n",
      "18973/18973 [==============================] - 85s 4ms/step - loss: 0.5254 - root_mean_squared_error: 0.7248 - val_loss: 0.6629 - val_root_mean_squared_error: 0.8142\n",
      "Epoch 62/200\n",
      "18973/18973 [==============================] - 83s 4ms/step - loss: 0.5247 - root_mean_squared_error: 0.7243 - val_loss: 0.6629 - val_root_mean_squared_error: 0.8142\n",
      "Epoch 63/200\n",
      "18973/18973 [==============================] - 85s 4ms/step - loss: 0.5240 - root_mean_squared_error: 0.7239 - val_loss: 0.6630 - val_root_mean_squared_error: 0.8142\n",
      "Epoch 64/200\n",
      "18973/18973 [==============================] - 84s 4ms/step - loss: 0.5233 - root_mean_squared_error: 0.7234 - val_loss: 0.6631 - val_root_mean_squared_error: 0.8143\n",
      "Epoch 65/200\n",
      "18973/18973 [==============================] - 84s 4ms/step - loss: 0.5227 - root_mean_squared_error: 0.7230 - val_loss: 0.6630 - val_root_mean_squared_error: 0.8143\n",
      "Epoch 66/200\n",
      "18973/18973 [==============================] - 84s 4ms/step - loss: 0.5221 - root_mean_squared_error: 0.7226 - val_loss: 0.6632 - val_root_mean_squared_error: 0.8143\n"
     ]
    }
   ],
   "source": [
    "# 学習\n",
    "tf.keras.utils.plot_model(model, show_shapes=True)\n",
    "\n",
    "# callback関数\n",
    "early_stopping = tf.keras.callbacks.EarlyStopping(\n",
    "    monitor='val_loss',\n",
    "    patience=5,\n",
    "    restore_best_weights=True,\n",
    "    verbose=0\n",
    "    )\n",
    "checkpoint = tf.keras.callbacks.ModelCheckpoint(\n",
    "    'keras.h5',\n",
    "    monitor='val_loss',\n",
    "    save_best_only=True,\n",
    "    save_weights_only=True,\n",
    "    mode='min',\n",
    "    verbose=0\n",
    ")\n",
    "\n",
    "# 学習実行\n",
    "result = model.fit(\n",
    "    x=[train['userIdx'].values, train['movieIdx'].values],\n",
    "    y=train['rating'].values,\n",
    "    epochs=200,\n",
    "    batch_size=1024,\n",
    "    validation_data=(\n",
    "        [test['userIdx'].values, test['movieIdx'].values],\n",
    "        test['rating'].values\n",
    "    ),\n",
    "    callbacks=[early_stopping, checkpoint],\n",
    "    verbose=1\n",
    ")"
   ]
  },
  {
   "cell_type": "code",
   "execution_count": 10,
   "id": "742800b8",
   "metadata": {},
   "outputs": [
    {
     "data": {
      "text/plain": [
       "<keras.callbacks.History at 0xffff0c2bc3a0>"
      ]
     },
     "execution_count": 10,
     "metadata": {},
     "output_type": "execute_result"
    }
   ],
   "source": [
    "result"
   ]
  },
  {
   "cell_type": "code",
   "execution_count": 11,
   "id": "1fcc86bc",
   "metadata": {},
   "outputs": [],
   "source": [
    "model.save('../datasets/matrix-factorization.h5')"
   ]
  },
  {
   "cell_type": "code",
   "execution_count": 29,
   "id": "db9b7dfc",
   "metadata": {},
   "outputs": [
    {
     "name": "stdout",
     "output_type": "stream",
     "text": [
      "1/1 [==============================] - 0s 36ms/step\n"
     ]
    },
    {
     "data": {
      "text/plain": [
       "array([[3.952248 ],\n",
       "       [3.679933 ],\n",
       "       [3.3663383]], dtype=float32)"
      ]
     },
     "execution_count": 29,
     "metadata": {},
     "output_type": "execute_result"
    }
   ],
   "source": [
    "model.predict([np.array([283214, 283214, 283214]), np.array([1, 2, 3])], verbose=1)"
   ]
  }
 ],
 "metadata": {
  "kernelspec": {
   "display_name": "Python 3 (ipykernel)",
   "language": "python",
   "name": "python3"
  },
  "language_info": {
   "codemirror_mode": {
    "name": "ipython",
    "version": 3
   },
   "file_extension": ".py",
   "mimetype": "text/x-python",
   "name": "python",
   "nbconvert_exporter": "python",
   "pygments_lexer": "ipython3",
   "version": "3.8.13"
  }
 },
 "nbformat": 4,
 "nbformat_minor": 5
}
